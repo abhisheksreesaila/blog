{
 "cells": [
  {
   "cell_type": "markdown",
   "metadata": {},
   "source": [
    "# \"Pandas and its SQL Equivalent\"\n",
    "\n",
    "> \"A list of useful pandas commands for its SQL equivalent\"\n",
    "\n",
    "- toc: true\n",
    "- branch: master\n",
    "- badges: false\n",
    "- comments: true\n",
    "- categories: [Others]\n",
    "- hide: false\n",
    "- search_exclude: false\n",
    "- image: images/post-thumbnails/pandaslib.png\n",
    "- metadata_key1: notes\n",
    "- metadata_key2: "
   ]
  },
  {
   "cell_type": "markdown",
   "metadata": {},
   "source": [
    "# JOIN\n",
    "\n",
    "```sql\n",
    "\n",
    "SELECT * FROM TABLE a join TABLE_B b on a.column1 = b.column2\n",
    "\n",
    "```\n",
    "\n",
    "```\n",
    "pd.merge(left = left, right = right, how ='left')\n",
    "\n",
    "```\n",
    "\n",
    "# RENAME\n",
    "\n",
    "\n",
    "```sql\n",
    "\n",
    "sp_rename(table.colA, table.ColB)\n",
    "\n",
    "```\n",
    "\n",
    "```\n",
    "df.rename(columns = {\"colA\": \"colB\"}, inplace=True)\n",
    "\n",
    "```\n",
    "\n",
    "# WHERE\n",
    "\n",
    "\n",
    "```sql\n",
    "\n",
    "SELECT * FROM table WHERE colName = Value\n",
    "\n",
    "```\n",
    "\n",
    "```\n",
    "df[[df.ColName == Value]]\n",
    "\n",
    "```\n",
    "\n",
    "\n",
    "\n",
    "# DISTINCT\n",
    "\n",
    "```sql\n",
    "\n",
    "SELECT DISTINCT Col1, Col2 FROM table WHERE colName = Value\n",
    "\n",
    "```\n",
    "\n",
    "```\n",
    "df[['col1', 'col2']].drop_duplicates()\n",
    "\n",
    "```\n",
    "\n"
   ]
  },
  {
   "cell_type": "markdown",
   "metadata": {},
   "source": [
    "\n"
   ]
  },
  {
   "cell_type": "markdown",
   "metadata": {},
   "source": [
    "\n"
   ]
  },
  {
   "cell_type": "markdown",
   "metadata": {},
   "source": [
    "\n",
    "\n"
   ]
  }
 ],
 "metadata": {
  "kernelspec": {
   "display_name": "Python 3",
   "language": "python",
   "name": "python3"
  },
  "language_info": {
   "codemirror_mode": {
    "name": "ipython",
    "version": 3
   },
   "file_extension": ".py",
   "mimetype": "text/x-python",
   "name": "python",
   "nbconvert_exporter": "python",
   "pygments_lexer": "ipython3",
   "version": "3.7.6"
  }
 },
 "nbformat": 4,
 "nbformat_minor": 4
}
