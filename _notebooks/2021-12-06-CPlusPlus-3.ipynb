{
 "cells": [
  {
   "cell_type": "markdown",
   "metadata": {},
   "source": [
    "# \"C++ Pointers\"\n",
    "\n",
    "> \"Exploring the most hated (and loved) aspect of c++\"\n",
    "\n",
    "- toc: true\n",
    "- branch: master\n",
    "- badges: false\n",
    "- comments: true\n",
    "- categories: [Programming Languages]\n",
    "- hide: false\n",
    "- search_exclude: false\n",
    "- image: images/post-thumbnails/cplusplus.png\n",
    "- metadata_key1: c++\n",
    "- metadata_key2:"
   ]
  },
  {
   "cell_type": "markdown",
   "metadata": {},
   "source": [
    "\n",
    "\n"
   ]
  },
  {
   "cell_type": "markdown",
   "metadata": {},
   "source": [
    "# Purpose\n",
    "\n",
    "Continuing to explore the most popular and confusing concepts in C++ : Pointers and Iterators\n"
   ]
  },
  {
   "cell_type": "markdown",
   "metadata": {},
   "source": [
    "\n",
    "# Pointers\n",
    "\n",
    "\n",
    "```c++\n",
    "\n",
    "#include <iostream>\n",
    "using namespace std;\n",
    "\n",
    "int g_value = 42;\n",
    "\n",
    "void CallFunc(int*& p)\n",
    "\n",
    "{\n",
    "\n",
    "    cout << \"p value inside the func\" << p << endl;\n",
    "    p = &g_value;\n",
    "\n",
    "}\n",
    "\n",
    "int main ()\n",
    "\n",
    "{\n",
    "\n",
    "    int l_value = 23;\n",
    "    int** y; \n",
    "    std::cout << \" l_value  = \" << l_value << std::endl;\n",
    "    std::cout << \" l_value addr value = \" << &l_value  << std::endl;\n",
    "    int *p;\n",
    "    p = &l_value;\n",
    "    y=&p; \n",
    "    std::cout << \" p value = \" << p  << std::endl ;\n",
    "    std::cout << \" p pointer value = \" << *p  << std::endl; \n",
    "    std::cout << \" y value = \" << y  << std::endl ;\n",
    "    std::cout << \" y pointer value = \" << *y  << std::endl; \n",
    "    CallFunc(p);\n",
    "    std::cout << \" After \" << std::endl;\n",
    "    std::cout << \" p value = \" << *p   << std::endl;\n",
    "    std::cout << \" p addr value = \" << p  << std::endl;\n",
    "\n",
    "}\n",
    "\n",
    "```"
   ]
  },
  {
   "cell_type": "markdown",
   "metadata": {},
   "source": [
    "\n",
    "\n"
   ]
  },
  {
   "cell_type": "markdown",
   "metadata": {},
   "source": [
    "\n"
   ]
  },
  {
   "cell_type": "markdown",
   "metadata": {},
   "source": [
    "\n"
   ]
  },
  {
   "cell_type": "markdown",
   "metadata": {},
   "source": [
    "\n",
    "\n"
   ]
  }
 ],
 "metadata": {
  "kernelspec": {
   "display_name": "Python 3 (ipykernel)",
   "language": "python",
   "name": "python3"
  },
  "language_info": {
   "codemirror_mode": {
    "name": "ipython",
    "version": 3
   },
   "file_extension": ".py",
   "mimetype": "text/x-python",
   "name": "python",
   "nbconvert_exporter": "python",
   "pygments_lexer": "ipython3",
   "version": "3.8.11"
  }
 },
 "nbformat": 4,
 "nbformat_minor": 4
}
