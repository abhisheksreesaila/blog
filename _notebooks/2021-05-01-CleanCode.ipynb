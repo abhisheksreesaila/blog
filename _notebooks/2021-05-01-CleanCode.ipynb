{
 "cells": [
  {
   "cell_type": "markdown",
   "metadata": {},
   "source": [
    "# \"Clean Code By Robert C Martin Notes\"\n",
    "\n",
    "> \"My notes after reading the book Clean code by Robert Martin (a.k.a Bob Martin)\"\n",
    "\n",
    "- toc: true\n",
    "- branch: master\n",
    "- badges: false\n",
    "- comments: true\n",
    "- categories: [Others]\n",
    "- hide: false\n",
    "- search_exclude: false\n",
    "- image: images/post-thumbnails/code.png\n",
    "- metadata_key1: clean code\n",
    "- metadata_key2: "
   ]
  },
  {
   "cell_type": "markdown",
   "metadata": {},
   "source": [
    "WIP"
   ]
  },
  {
   "cell_type": "markdown",
   "metadata": {},
   "source": [
    "# Classes\n",
    "\n",
    " - Single responsibility\n",
    " - Break it\n",
    " - Domain Driven\n",
    " - Inject Object & code Interfaces\n",
    "\n",
    "\n",
    "# Comments\n",
    "\n",
    " -  To Amplify\n",
    " -  TODOS\n",
    " -  Remove Unnecessary\n",
    " \n",
    "# Functions\n",
    "\n",
    " - 1 thing to do\n",
    " - no args (preferred)\n",
    " - 1/2 OK\n",
    " - 3 or more = bad\n",
    " "
   ]
  },
  {
   "cell_type": "markdown",
   "metadata": {},
   "source": [
    "\n"
   ]
  },
  {
   "cell_type": "markdown",
   "metadata": {},
   "source": [
    "\n"
   ]
  },
  {
   "cell_type": "markdown",
   "metadata": {},
   "source": [
    "\n",
    "\n"
   ]
  }
 ],
 "metadata": {
  "kernelspec": {
   "display_name": "Python 3",
   "language": "python",
   "name": "python3"
  },
  "language_info": {
   "codemirror_mode": {
    "name": "ipython",
    "version": 3
   },
   "file_extension": ".py",
   "mimetype": "text/x-python",
   "name": "python",
   "nbconvert_exporter": "python",
   "pygments_lexer": "ipython3",
   "version": "3.7.6"
  }
 },
 "nbformat": 4,
 "nbformat_minor": 4
}
