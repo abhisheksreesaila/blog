{
 "cells": [
  {
   "cell_type": "markdown",
   "metadata": {},
   "source": [
    "# \"comma ai - self driving for the masses\"\n",
    "\n",
    "> \"Tesla -> Autopilot; Remaining cars -> openpilot.\"\n",
    "\n",
    "- toc: true\n",
    "- branch: master\n",
    "- badges: false\n",
    "- comments: true\n",
    "- categories: [Self Driving]\n",
    "- hide: false\n",
    "- search_exclude: false\n",
    "- image: images/post-thumbnails/comma-ai.png\n",
    "- metadata_key1: notes\n",
    "- metadata_key2: "
   ]
  },
  {
   "cell_type": "markdown",
   "metadata": {},
   "source": [
    "# Introduction\n",
    "\n",
    "This is a multi blog posts about the openpilot software developed by comma ai.  I wil try to deconstruct as much as i can and along the way tell you why it could be the future of self driving. \n",
    "\n",
    "# Principle\n",
    "\n",
    "Every self driving car (except TESLA) will tell you the reason why they want to develop autonomous cars is to make driving safer and humans are bad drivers. Humans crash cars! Humans are distracted!. Yes all of this is absolutely true! but for 1-5% of the population. the other 95% are good drivers and been doing so for the last 100 years!  So, there is nothing wrong with the system. We only need to is to make our commute better like less annoying (better GPS?), less fatigue (better cruise control?) and a good music system. What comma ai is focusing (and every other company should focus) is a reduction of fatigue and making driving chill! thats it. \n",
    "\n",
    "**So, how do we do that? write a software that copies the best driving agent in the world - humans! **\n",
    "\n",
    "\n",
    "# Definitions\n",
    "\n",
    "Now we believe in the priniciple, lets define few car terms so that we understand\n",
    "\n",
    "ACC\n",
    "LKAS\n",
    "CAN\n",
    "\n",
    "\n",
    "\n",
    "\n"
   ]
  },
  {
   "cell_type": "markdown",
   "metadata": {},
   "source": [
    "\n",
    "\n"
   ]
  },
  {
   "cell_type": "markdown",
   "metadata": {},
   "source": [
    "\n"
   ]
  },
  {
   "cell_type": "markdown",
   "metadata": {},
   "source": [
    "\n",
    "\n"
   ]
  },
  {
   "cell_type": "markdown",
   "metadata": {},
   "source": [
    "\n",
    " \n",
    " \n",
    "\n"
   ]
  },
  {
   "cell_type": "markdown",
   "metadata": {},
   "source": [
    "\n",
    "\n"
   ]
  }
 ],
 "metadata": {
  "kernelspec": {
   "display_name": "Python 3 (ipykernel)",
   "language": "python",
   "name": "python3"
  },
  "language_info": {
   "codemirror_mode": {
    "name": "ipython",
    "version": 3
   },
   "file_extension": ".py",
   "mimetype": "text/x-python",
   "name": "python",
   "nbconvert_exporter": "python",
   "pygments_lexer": "ipython3",
   "version": "3.8.11"
  }
 },
 "nbformat": 4,
 "nbformat_minor": 4
}
