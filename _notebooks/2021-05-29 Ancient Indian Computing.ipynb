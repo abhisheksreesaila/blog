{
 "cells": [
  {
   "cell_type": "markdown",
   "metadata": {},
   "source": [
    "# \"Ancient Indian Computing\"\n",
    "\n",
    "> \"A short introduction to binary calculationa that originated in INDIA!\"\n",
    "\n",
    "- toc: true\n",
    "- branch: master\n",
    "- badges: false\n",
    "- comments: true\n",
    "- categories: [Others]\n",
    "- hide: false\n",
    "- search_exclude: false\n",
    "- image: images/post-thumbnails/AncientIndianComp.png\n",
    "- metadata_key1: Agile\n",
    "- metadata_key2: "
   ]
  },
  {
   "cell_type": "markdown",
   "metadata": {},
   "source": [
    "\n",
    "# Binary Values\n",
    "\n",
    "1 and 0s\n",
    "\n",
    "![](https://abhisheksreesaila.github.io/blog/images/general/Values.png)\n",
    "\n",
    "# Pneumonic\n",
    "\n",
    "The binary notation is a mirror images of the modern binary notation\n",
    "\n",
    "![](https://abhisheksreesaila.github.io/blog/images/general/Pneumonic.png)\n",
    "\n",
    "\n",
    "# Prashtra\n",
    "\n",
    "Given a binary value, what is the next in sequence? Algorithm shown\n",
    "\n",
    "![](https://abhisheksreesaila.github.io/blog/images/general/Prashtra.png)\n",
    "\n",
    "\n",
    "# Sankya\n",
    "\n",
    "Given a binary notation, what is it value? Pingala provides an efficient algorithm\n",
    "\n",
    "![](https://abhisheksreesaila.github.io/blog/images/general/Sankya.png)\n",
    "\n",
    "\n",
    "# Nasta\n",
    "\n",
    "Find the nth binary notation in the 4 digit binary system\n",
    "\n",
    "![](https://abhisheksreesaila.github.io/blog/images/general/Nasta.png)\n",
    "\n",
    "# Uddishta\n",
    "\n",
    "Given a number, find its metre (value)\n",
    "\n",
    "![](https://abhisheksreesaila.github.io/blog/images/general/Uddishta.png)\n",
    "\n",
    "# Lagagriya\n",
    "\n",
    "Pyramid way to calculate combinations\n",
    "\n",
    "![](https://abhisheksreesaila.github.io/blog/images/general/Lagagriya.png)\n"
   ]
  },
  {
   "cell_type": "markdown",
   "metadata": {},
   "source": []
  },
  {
   "cell_type": "markdown",
   "metadata": {},
   "source": [
    "\n"
   ]
  },
  {
   "cell_type": "markdown",
   "metadata": {},
   "source": [
    "\n"
   ]
  },
  {
   "cell_type": "markdown",
   "metadata": {},
   "source": [
    "\n",
    "\n"
   ]
  }
 ],
 "metadata": {
  "kernelspec": {
   "display_name": "Python 3",
   "language": "python",
   "name": "python3"
  },
  "language_info": {
   "codemirror_mode": {
    "name": "ipython",
    "version": 3
   },
   "file_extension": ".py",
   "mimetype": "text/x-python",
   "name": "python",
   "nbconvert_exporter": "python",
   "pygments_lexer": "ipython3",
   "version": "3.7.6"
  }
 },
 "nbformat": 4,
 "nbformat_minor": 4
}
