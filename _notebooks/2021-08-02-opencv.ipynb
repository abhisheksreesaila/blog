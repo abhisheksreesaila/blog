{
 "cells": [
  {
   "cell_type": "markdown",
   "metadata": {},
   "source": [
    "# \"OpenCV Basics\"\n",
    "\n",
    "> \"A list of useful opencv commands learnt from pyimage search university course\"\n",
    "\n",
    "- toc: true\n",
    "- branch: master\n",
    "- badges: false\n",
    "- comments: true\n",
    "- categories: [Computer Vision]\n",
    "- hide: false\n",
    "- search_exclude: false\n",
    "- image: images/post-thumbnails/opencv.png\n",
    "- metadata_key1: notes\n",
    "- metadata_key2: "
   ]
  },
  {
   "cell_type": "markdown",
   "metadata": {},
   "source": [
    "Upload a file to the google colab"
   ]
  },
  {
   "cell_type": "markdown",
   "metadata": {},
   "source": [
    "# Image Reading\n",
    "\n",
    "Read the image using opencv's imread\n",
    "\n",
    "```python\n",
    "\n",
    "image = cv2.imread(\"image.jpg\")\n",
    "\n",
    "h = image.shape [0]  # first dim of the shape is HEIGHT\n",
    "w = image.shape [1]  # second dim of the shape is WEIGHT\n",
    "\n",
    "```\n"
   ]
  },
  {
   "cell_type": "markdown",
   "metadata": {},
   "source": [
    "# Image Resize\n",
    "\n",
    "Here we are resizing the width to 50 pixels. We have to make sure the height is proportionally reduced.\n",
    "\n",
    "```python\n",
    "\n",
    "# find out the ratio by dividing the \"new\" width / \"old width\"\n",
    "r = 50.0 / image.shape[1]\n",
    "\n",
    "# multiple the ratio with the height\n",
    "# creating a dimension tuple; (weight, height)\n",
    "dim = (50, int(image.shape[0] * r))\n",
    "\n",
    "# resizing of the image\n",
    "resized = cv2.resize(image, dim, interpolation=cv2.INTER_AREA)\n",
    "plt.imshow(\"Resized (Width)\", resized)\n",
    "\n",
    "```\n",
    "\n",
    "\n",
    "*Image interpolation occurs when you resize or distort your image from one pixel grid to another. Zooming refers to increase the quantity of pixels, so that when you zoom an image, you will see more detail. Interpolation works by using known data to estimate values at unknown points*  \n",
    "\n",
    "There are many  interpolation methods in opencv. Common ones include \n",
    "- cv2.INTER_NEAREST\n",
    "- cv2.INTER_LINEAR\n",
    "- cv2.INTER_AREA\n",
    "- cv2.INTER_CUBIC\n",
    "- cv2.INTER_LANCZOS4\n"
   ]
  },
  {
   "cell_type": "markdown",
   "metadata": {},
   "source": [
    "## Translation\n",
    "\n",
    "Translation means \"geometrical translation\" and achieved through providing a special matrix called the Translation Matrix to the opencv translation function. \n",
    "\n",
    "\n",
    "- The transformation matrix  **[[ 1, 0, X] [0, 1, Y]]**\n",
    "  - #X ==> left and right**\n",
    "  - #Y ==> up and down**\n",
    "\n",
    "Use the positive values for X and Y for \"shifting right\" and \"shifting down\" \n",
    "Use the negative values for X and Y for \"shifting left\" and \"shifting up\" \n",
    "\n",
    "```python\n",
    "\n",
    "# Shift the image 25 pixels to the right and 50 pixels down\n",
    "Mn = np.float32([[1,0,25], [0,1,50]])\n",
    "\n",
    "# maintains colinearity - maintains parallelism, ratio is maintained\n",
    "shifted_ing = cv2.warpAffine(image, Mn, (image.shape[1], image.shape[0]))\n",
    "\n",
    "#show the image\n",
    "plt.imshow(shifted_ing)\n",
    "\n",
    "```\n",
    "![](https://abhisheksreesaila.github.io/blog/images/opencv/translation1.png \"Move right and down\")"
   ]
  },
  {
   "cell_type": "code",
   "execution_count": null,
   "metadata": {},
   "outputs": [],
   "source": [
    "\n",
    "\n",
    "\n",
    "\n",
    "\n",
    "\n",
    "\n",
    "\n",
    "##Arthimetic\n",
    "\n"
   ]
  },
  {
   "cell_type": "markdown",
   "metadata": {},
   "source": [
    "## Rotation\n",
    "\n",
    "\n",
    "```python\n",
    "\n",
    "image = cv2.imread(args[\"image\"])\n",
    "\n",
    "# get a height and width of the image\n",
    "(h, w) = image.shape [:2]\n",
    "\n",
    "# get the rotation which is usually the center of the image\n",
    "rotation_point  = (h/2, w/2)\n",
    "\n",
    "# get the rotation matrix\n",
    "\n",
    "M = cv2.getRotationMatrix2D(rotation_point,45,1) #center, angle (# clock wise = negative;\n",
    "# counter clock wise = positive) , scaling\n",
    "\n",
    "```\n",
    "![](https://abhisheksreesaila.github.io/blog/images/opencv/rotate1.png \"Rotate 45 degrees\")\n",
    "\n",
    "If you do not want the side to cropped off we have to update the rotation matrix values. Refer the link [here]( https://www.geeksforgeeks.org/rotate-image-without-cutting-off-sides-using-python-opencv)\n",
    "\n",
    "> Note: *imutils* is a thin wrapper around opencv function and can do the \"rotate bound\" in 1 line rather than computing the rotation matrices ourselves using the sin/cosine values\n",
    "\n"
   ]
  },
  {
   "cell_type": "markdown",
   "metadata": {},
   "source": [
    "# Drawing\n",
    "\n",
    "\n",
    "```python\n",
    "canvas = np.zeros((300, 300, 3), dtype=\"uint8\")  # create a blank image\n",
    "green = (0, 255, 0)  # set the color (B,G,R)\n",
    "cv2.line (canvas, (0,0), (300,300), green, 2) # draw a green line from 0,0 to 300,300 with thickness = 2px wide\n",
    "plt.imshow(canvas)\n",
    "#################################\n",
    "\n",
    "red = (255, 0, 0)\n",
    "cv2.line (canvas, (300, 0), (0,300), red, 2)# draw a red line from 0,0 to 300,300 with thickness = 2px wide\n",
    "plt.imshow(canvas)\n",
    "\n",
    "#################################\n",
    "\n",
    "blue = (0, 0, 255)\n",
    "cv2.rectangle(canvas,  (200,100), (100,200), blue, 2) # draw a rectange ; provide the 2 corners (top right, left bottom) of the rectangle\n",
    "plt.imshow(canvas)\n",
    "\n",
    "#################################\n",
    "pink = [255, 192, 203]\n",
    "cv2.circle(canvas,(150, 150), 25, pink, 2) # draw a pink circle with a center at (150, 150) and radius of 25px wide \n",
    "plt.imshow(canvas)\n",
    "#################################\n",
    "\n",
    "random_color = np.random.randint(0, 255, (3,)).tolist()  # random color\n",
    "cv2.line (canvas, (0, 150), (300, 150), random_color, 2)  # draw a line\n",
    "plt.imshow(canvas)\n",
    "\n",
    "```"
   ]
  },
  {
   "cell_type": "markdown",
   "metadata": {},
   "source": [
    "\n"
   ]
  },
  {
   "cell_type": "markdown",
   "metadata": {},
   "source": [
    "\n",
    "\n"
   ]
  }
 ],
 "metadata": {
  "kernelspec": {
   "display_name": "Python 3 (ipykernel)",
   "language": "python",
   "name": "python3"
  },
  "language_info": {
   "codemirror_mode": {
    "name": "ipython",
    "version": 3
   },
   "file_extension": ".py",
   "mimetype": "text/x-python",
   "name": "python",
   "nbconvert_exporter": "python",
   "pygments_lexer": "ipython3",
   "version": "3.7.6"
  }
 },
 "nbformat": 4,
 "nbformat_minor": 4
}
