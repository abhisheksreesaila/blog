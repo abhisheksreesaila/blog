{
 "cells": [
  {
   "cell_type": "markdown",
   "metadata": {},
   "source": [
    "# \"Notes from AGILE SAFe Training\"\n",
    "\n",
    "> \"Notes about SAFe (Scaled Agile Framework for Enterprise)\"\n",
    "\n",
    "- toc: true\n",
    "- branch: master\n",
    "- badges: false\n",
    "- comments: true\n",
    "- categories: [Others]\n",
    "- hide: false\n",
    "- search_exclude: false\n",
    "- image: images/post-thumbnails/safeagile.png\n",
    "- metadata_key1: Agile\n",
    "- metadata_key2: "
   ]
  },
  {
   "cell_type": "markdown",
   "metadata": {},
   "source": [
    "## Points to Remember\n",
    "\n",
    "- SCRUM of SCRUMS (SOS) =   twice a week, then cut down\n",
    "\n",
    "- RTE - Release train engineer \n",
    "    - Manager for scrum masters\n",
    "\n",
    "- PI Planning\n",
    "  - top 10 features as input\n",
    "  - PI objectives\n",
    "  - or else do not start\n",
    "\n",
    "- User stories\n",
    "  - it has to be user driven\n",
    "  - I am driver, wanting to do this, that’s adds \"this\" business value\n",
    "\n",
    "- User-less stores\n",
    "  - DB ==> front end\n",
    "\n",
    "- Time is not EQUAL story points\n",
    "  - relative\n",
    "  - pick a base and measure against it\n",
    "\n",
    "- Never start sprints on Monday/and end on fridays\n",
    "\n",
    "- PI planning\n",
    "  - <>iteration planning\n",
    "  - assign to people. (atleast team)\n",
    "  - atleast 2 stories so that we hit the ground running\n",
    "\n",
    "![](https://abhisheksreesaila.github.io/blog/images/general/pi-planning.png)\n",
    "\n",
    "- Team Burns outs\n",
    "\n",
    "![](https://abhisheksreesaila.github.io/blog/images/general/team-burn-charts.png)\n",
    "\n",
    "- Daily stand ups\n",
    "  - 15 mins\n",
    "  - use the next 15 min for stay-behind\n",
    "\t"
   ]
  },
  {
   "cell_type": "markdown",
   "metadata": {},
   "source": []
  },
  {
   "cell_type": "markdown",
   "metadata": {},
   "source": [
    "\n"
   ]
  },
  {
   "cell_type": "markdown",
   "metadata": {},
   "source": [
    "\n"
   ]
  },
  {
   "cell_type": "markdown",
   "metadata": {},
   "source": [
    "\n",
    "\n"
   ]
  }
 ],
 "metadata": {
  "kernelspec": {
   "display_name": "Python 3",
   "language": "python",
   "name": "python3"
  },
  "language_info": {
   "codemirror_mode": {
    "name": "ipython",
    "version": 3
   },
   "file_extension": ".py",
   "mimetype": "text/x-python",
   "name": "python",
   "nbconvert_exporter": "python",
   "pygments_lexer": "ipython3",
   "version": "3.7.6"
  }
 },
 "nbformat": 4,
 "nbformat_minor": 4
}
