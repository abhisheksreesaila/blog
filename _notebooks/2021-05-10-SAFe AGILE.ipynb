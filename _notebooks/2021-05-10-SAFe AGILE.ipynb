{
 "cells": [
  {
   "cell_type": "markdown",
   "metadata": {},
   "source": [
    "# \"Notes from AGILE SAFe Training\"\n",
    "\n",
    "> \"Notes about SAFe (Scaled Agile Framework for Enterprise)\"\n",
    "\n",
    "- toc: true\n",
    "- branch: master\n",
    "- badges: false\n",
    "- comments: true\n",
    "- categories: [Others]\n",
    "- hide: false\n",
    "- search_exclude: false\n",
    "- image: images/post-thumbnails/safe_agile.png\n",
    "- metadata_key1: Agile\n",
    "- metadata_key2: "
   ]
  },
  {
   "cell_type": "markdown",
   "metadata": {},
   "source": [
    "## Basics\n",
    "\n",
    "- User stories\n",
    "  - Small unit of value\n",
    "  - it has to be user driven\n",
    "  - I am driver, wanting to do this, that’s adds \"this\" business value\n",
    "\n",
    "- Features\n",
    "  - bigger chunk of user stories\n",
    "  - single value stream of work\n",
    "  - typically achieved under a quarter\n",
    "\n",
    "- Capability\n",
    "  - multiple streams of work \n",
    "\n",
    "- Epics\n",
    "  - not same as projects\n",
    "  - work of substantial value to the organization\n",
    "  - can run into mulitple PI's\n",
    "  - does not have start and end time\n",
    "  - Define MVP clearly\n",
    "  - Try to achieve them, if you cannot, pivot and rewrite epics\n",
    "  - Refer below diagram\n",
    "\n",
    "- Architecture Runaway\n",
    "  - Achieve the near-term features without excessive redesign and delays\n",
    "  - It will spike up and down\n",
    "  - Imagine an aircraft, needing to land after exit\n",
    "  \n",
    "- Role of a SCRUM Master\n",
    "  - Coach the team with AGILE SCRUM process\n",
    "  - Facilitate problem solving\n",
    "  - Protect them from external influence of stakeholders\n",
    "  - Represent in SOS (Scrum of Scrums)\n",
    "  - Helps in Coordination with other team (but responsibility of everyone in the AGILE team)\n",
    "  \n",
    "\n",
    "## Points to Remember\n",
    "\n",
    "- SCRUM of SCRUMS (SOS) =   twice a week, then cut down\n",
    "\n",
    "- RTE - Release train engineer \n",
    "  - Manager for scrum masters\n",
    "\n",
    "- PI Planning\n",
    "  - Top 10 features as input\n",
    "  - PI objectives\n",
    "  - or else do not start\n",
    "\n",
    "- User-less stores\n",
    "  - DB ==> front end\n",
    "\n",
    "- Time is not EQUAL story points\n",
    "  - relative\n",
    "  - pick a base and measure against it\n",
    "\n",
    "- Never start sprints on Monday/and end on fridays\n",
    "\n",
    "- PI planning\n",
    "  - <>iteration planning\n",
    "  - assign to people. (atleast team)\n",
    "  - atleast 2 stories so that we hit the ground running\n",
    "\n",
    "![](https://abhisheksreesaila.github.io/blog/images/general/pi-planning.png)\n",
    "\n",
    "- Team Burns outs\n",
    "\n",
    "![](https://abhisheksreesaila.github.io/blog/images/general/team-burn-charts.png)\n",
    "\n",
    "- Daily stand ups\n",
    "  - 15 mins\n",
    "  - use the next 15 min for stay-behind\n",
    "\t"
   ]
  },
  {
   "cell_type": "markdown",
   "metadata": {},
   "source": []
  },
  {
   "cell_type": "markdown",
   "metadata": {},
   "source": [
    "\n"
   ]
  },
  {
   "cell_type": "markdown",
   "metadata": {},
   "source": [
    "\n"
   ]
  },
  {
   "cell_type": "markdown",
   "metadata": {},
   "source": [
    "\n",
    "\n"
   ]
  }
 ],
 "metadata": {
  "kernelspec": {
   "display_name": "Python 3",
   "language": "python",
   "name": "python3"
  },
  "language_info": {
   "codemirror_mode": {
    "name": "ipython",
    "version": 3
   },
   "file_extension": ".py",
   "mimetype": "text/x-python",
   "name": "python",
   "nbconvert_exporter": "python",
   "pygments_lexer": "ipython3",
   "version": "3.7.6"
  }
 },
 "nbformat": 4,
 "nbformat_minor": 4
}
