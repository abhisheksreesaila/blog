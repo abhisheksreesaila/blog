{
 "cells": [
  {
   "cell_type": "markdown",
   "metadata": {},
   "source": [
    "# \"rand robotics topics\"\n",
    "\n",
    "> \"Everyday Learnings about ML. Random topics\"\n",
    "\n",
    "- toc: true\n",
    "- branch: master\n",
    "- badges: false\n",
    "- comments: true\n",
    "- categories: [robotics]\n",
    "- hide: false\n",
    "- search_exclude: false\n",
    "- image: images/post-thumbnails/robotics.jpg\n",
    "- metadata_key1: robotics\n",
    "- metadata_key2: "
   ]
  },
  {
   "cell_type": "markdown",
   "metadata": {},
   "source": [
    "# Kalman Filter Intuition\n",
    "\n",
    "**PURPOSE** \n",
    "\n",
    "Kalman Filter are useful tools to measure something that cannot be measured directly! You gather all the attributes to measure it indirectly. Example : you cannot measure the moving vehicle position w.r.t to its surroundings, so use LIDAR to throw light at them and measure the reflections back to create a map of the objects around it.  Its not going to be perfect, but its a good approx. Another example is SONAR - Measure the speed of sound reflection to measure ocean's depth. \n",
    "\n",
    "Kalman filter has the these high level components:-\n",
    "\n",
    "- **PREDICTION** - Predict the next state of the object. \n",
    "- **MEASUREMENT** - Measure the current state of the object.\n",
    "- **CONFIDENCE** - How good (or bad) the PREDICTED or MEASUREMENT values are\n",
    "\n",
    "Kalman filter (or variants) have the following intuition.\n",
    "\n",
    "**CURRENT STATE**\n",
    "\n",
    "- Suppose current time is 3:00pm\n",
    "\n",
    "**PREDICTION over MEASUREMENT**\n",
    "\n",
    "- After few mins, we look at the watch again and we PREDICT its 3:04pm, but its shows 3:55pm!! \n",
    "- We know the MEASUREMENT is wrong and  have every reason to believe the PREDICTION is more acccurate and set the watch to be 3:04pm. Our CONFIDENCE in the MEASUREMENT is shaken, we believe it is so noisy to show 3:55pm \n",
    "\n",
    "**MEASUREMENT over PREDICTION**\n",
    "\n",
    "- On the other hand, if the measurement shows 3:05 pm, we have greater confidence that MEASUREMENT is correct, since its more or less in line with our expectations and since its actually measured, thats should be more accurate. Here we trust or more CONFIDENCE in the MEASUREMENT. \n"
   ]
  },
  {
   "cell_type": "markdown",
   "metadata": {},
   "source": [
    "\n"
   ]
  },
  {
   "cell_type": "markdown",
   "metadata": {},
   "source": [
    "\n"
   ]
  },
  {
   "cell_type": "markdown",
   "metadata": {},
   "source": [
    "\n",
    "\n"
   ]
  }
 ],
 "metadata": {
  "kernelspec": {
   "display_name": "Python 3",
   "language": "python",
   "name": "python3"
  },
  "language_info": {
   "codemirror_mode": {
    "name": "ipython",
    "version": 3
   },
   "file_extension": ".py",
   "mimetype": "text/x-python",
   "name": "python",
   "nbconvert_exporter": "python",
   "pygments_lexer": "ipython3",
   "version": "3.7.6"
  }
 },
 "nbformat": 4,
 "nbformat_minor": 4
}
