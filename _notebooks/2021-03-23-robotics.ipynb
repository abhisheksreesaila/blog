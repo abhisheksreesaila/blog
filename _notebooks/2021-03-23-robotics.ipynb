{
 "cells": [
  {
   "cell_type": "markdown",
   "metadata": {},
   "source": [
    "# \"Robotics Topics\"\n",
    "\n",
    "> \"Everyday Learnings about ML. Random topics\"\n",
    "\n",
    "- toc: true\n",
    "- branch: master\n",
    "- badges: false\n",
    "- comments: true\n",
    "- categories: [Robotics]\n",
    "- hide: false\n",
    "- search_exclude: false\n",
    "- image: images/post-thumbnails/robotics.jpg\n",
    "- metadata_key1: Robotics\n",
    "- metadata_key2: "
   ]
  },
  {
   "cell_type": "markdown",
   "metadata": {},
   "source": [
    "# Kalman Filter Intuition\n",
    "\n",
    "**PURPOSE** \n",
    "\n",
    "Kalman Filter are useful tools to measure something that cannot be measured directly! You gather all the attributes to measure it indirectly. Example : you cannot measure the moving vehicle position w.r.t to its surroundings, so use LIDAR to throw light at them and measure the reflections back to create a map of the objects around it.  Its not going to be perfect, but its a good approx. Another example is SONAR - Measure the speed of sound reflection to measure ocean's depth. \n",
    "\n",
    "Kalman filter has the these high level components:-\n",
    "\n",
    "- **PREDICTION** - Predict the next state of the object. \n",
    "- **MEASUREMENT** - Measure the current state of the object.\n",
    "- **CONFIDENCE** - How good (or bad) the PREDICTED or MEASUREMENT values are\n",
    "\n",
    "Kalman filter (or variants) have the following intuition.\n",
    "\n",
    "**CURRENT STATE**\n",
    "\n",
    "- Suppose current time is 3:00pm\n",
    "\n",
    "**PREDICTION over MEASUREMENT**\n",
    "\n",
    "- After few mins, we look at the watch again and we PREDICT its 3:04pm, but its shows 3:55pm!! \n",
    "- We know the MEASUREMENT is wrong and  have every reason to believe the PREDICTION is more acccurate and set the watch to be 3:04pm. Our CONFIDENCE in the MEASUREMENT is shaken, we believe it is so noisy to show 3:55pm \n",
    "\n",
    "**MEASUREMENT over PREDICTION**\n",
    "\n",
    "- On the other hand, if the measurement shows 3:05 pm, we have greater confidence that MEASUREMENT is correct, since its more or less in line with our expectations and since its actually measured, thats should be more accurate. Here we trust or more CONFIDENCE in the MEASUREMENT. \n",
    "\n",
    "### Visual\n",
    "\n",
    "![](https://abhisheksreesaila.github.io/blog/images/general/kalman-filter.png \"kalman filter\")\n",
    "\n",
    "**Limitations**\n",
    "\n",
    "Kalman filters assumes the measurements and noise to have an gaussian distrbution. \n",
    "Does not suport multi-modal?\n",
    "\n",
    "\n",
    "## Particle Filter\n",
    "\n",
    "\n",
    "### Advantages\n",
    "\n",
    "![](https://abhisheksreesaila.github.io/blog/images/general/Particle-filter-adv.png \"particle filter advantages\")\n",
    "\n",
    "### Concept\n",
    "\n",
    "![](https://abhisheksreesaila.github.io/blog/images/general/particle-filter.png \"particle filter\")\n",
    "\n",
    "\n",
    "## Path Planning\n",
    "\n",
    "### Djikistra algorithm\n",
    "\n",
    "- **Assumptions**\n",
    "    - We have a map\n",
    "    - We know the starting location and ending location\n",
    "    - We know the cost to reach any node in the map  i.e we have a weighted graph\n",
    "\n",
    "- **Algorithm**\n",
    "    - Start at the source node. We maintain a tracker variable for registering its cost from source.\n",
    "    - Since its origin, it is 0\n",
    "        - Add this to your path list\n",
    "    - Find neighbouring nodes\n",
    "        - Update the tracker variable from \"infinity\" to the cost from (source -> neighbouring node)\n",
    "        - If the node is already reached, then update the value of tracker only if its lesser than earlier value.\n",
    "        - The \"value\" calculated from the source node.\n",
    "    - Stop, when you reach the destination node\n",
    "    \n",
    "\n",
    "It will give the shortest node from any node to all other nodes provided they are reachable from source. \n",
    "\n",
    "As always, lets look at it visually! \n",
    "\n",
    "Assume the cost between each cell is 1.\n",
    "\n",
    "Visit each cell until you reach the TARGET node\n",
    "\n",
    "![](https://abhisheksreesaila.github.io/blog/images/general/DJK_Algo.png \"Dijkstra Algorithm\")\n"
   ]
  },
  {
   "cell_type": "markdown",
   "metadata": {},
   "source": [
    "### Working of A# (subset of Djikistra)\n",
    "\n",
    "- Uses the heuristic appraoch combined the elements of Djikistra\n",
    "   - use g_cost = distance from start node\n",
    "- keep track of the directions the goal\n",
    "   -  use h_cost = distance towards the goal\n",
    "      - this could be \"euclidiean distnace (shortest distance between 2 points in space) (with or without collision)\n",
    "      - Manhattan distance = grid distance between 2 points in space (avoiding collisions) \n",
    "- optimal distance\n",
    "    - In each iteration, always select the node with the lowest f_cost = sum(g_cost, h_cost)\n",
    "    \n",
    "### Working of RRT (Rapid Exploring Random Tree)\n",
    "\n",
    "- Use random probabilities to determine\n",
    "- Completely differet a* and djikstras algo\n",
    "- algorithm\n",
    "   - From the start position, generate random point\n",
    "   - if its too far, reduce to max allowable threshold\n",
    "   - connect the point to its nearest node. if you starting out it will be the root node, but subsquently there could other closer points\n",
    "   - while connecting, if there is a collision, then ignore the point, then repeat\n",
    "   - keep doing this until you generate a point close to the goal (closeness distance set by you)\n",
    "\n",
    " \n",
    "\n",
    "# References\n",
    "\n",
    "[ConstructSIM](https://www.youtube.com/watch?v=ZmQIkBws4LA)\n",
    "\n",
    "[Matlab Tech Talk By Brian](https://www.youtube.com/watch?v=pc-H4vyg2L4&t=611s)"
   ]
  },
  {
   "cell_type": "markdown",
   "metadata": {},
   "source": [
    "\n"
   ]
  },
  {
   "cell_type": "markdown",
   "metadata": {},
   "source": [
    "\n"
   ]
  },
  {
   "cell_type": "markdown",
   "metadata": {},
   "source": [
    "\n",
    "\n"
   ]
  }
 ],
 "metadata": {
  "kernelspec": {
   "display_name": "Python 3 (ipykernel)",
   "language": "python",
   "name": "python3"
  },
  "language_info": {
   "codemirror_mode": {
    "name": "ipython",
    "version": 3
   },
   "file_extension": ".py",
   "mimetype": "text/x-python",
   "name": "python",
   "nbconvert_exporter": "python",
   "pygments_lexer": "ipython3",
   "version": "3.7.6"
  }
 },
 "nbformat": 4,
 "nbformat_minor": 4
}
