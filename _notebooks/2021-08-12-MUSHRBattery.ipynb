{
 "cells": [
  {
   "cell_type": "markdown",
   "metadata": {},
   "source": [
    "# \"MUSHR Battery\"\n",
    "> \"Final config steps before we get the car moving...\"\n",
    "\n",
    "- toc: true\n",
    "- branch: master\n",
    "- badges: false\n",
    "- comments: true\n",
    "- categories: [SelfDriving]\n",
    "- hide: false\n",
    "- search_exclude: false\n",
    "- image: images/post-thumbnails/Final_Steps.png\n",
    "- metadata_key1: MUSHR\n",
    "- metadata_key2: "
   ]
  },
  {
   "cell_type": "markdown",
   "metadata": {},
   "source": [
    "\n",
    "## Battery\n",
    "\n",
    "Battery is one of the most important elements in a self driving car. If the JETSON NANO is not powered long enough, you cannot TEST, DEBUG the car. I tried the NIiMH batteries suggested by the MUSHR team, but due to lmited battery knowledge ended up draining them and hence making it unusable!! So after thorough research, I ended buying LIPO BATTERY pack [here](https://www.amazon.com/Zeee-Batteries-Dean-Style-Connector-Vehicles/dp/B076Z778MJ/ref=sr_1_2?dchild=1&keywords=zee+lipos&qid=1599709339&sr=8-2) and battery charger [here](https://www.amazon.com/Tenergy-Balance-Charger-Discharger-Connectors/dp/B00466PKE0/ref=sr_1_4?crid=9WRKZ0HRFW1L&dchild=1&keywords=tenergy+battery+charger&qid=1599709438&sprefix=tenergy+batte%2Caps%2C172&sr=8-4)\n",
    "\n",
    "> Warning: DO NOT IGNORE THIS SECTION. Having a good battery and taking good care of will save you ton of time downstream when you are stuck in code debugging or testing on track. \n",
    "\n",
    "### FAQs\n",
    "\n",
    "**Why LIPOS Battery (instead of NiMH)?**\n",
    "\n",
    "The advantages of lithium batteries compared to NiMH batteries are undeniable. The weight/power ratio in LiPo batteries is significantly better. LiPo batteries are noticeably lighter and they can store the same amount or more energy relative to their capacity than NiMH batteries. Also,\n",
    "\n",
    "- It costs the same as NiMH\n",
    "- Using a smart battery charger, control the charge and use it for years!!\n",
    "\n",
    "**Ok, I agree LIPOS are good. What the hell is BALANCE CHARGE vs FAST CHARGE vs SLOW CHARGE vs STORAGE CHARGE? Which one do I use?**\n",
    "\n",
    "- **BALANCE CHARGE**  Charges both the cells inside the battery equally. Use this setting 99.99% of the time.\n",
    "\n",
    "- **STORAGE CHARGE**  Charges the cells in such a way so that you can store them for months (and hence the name). LIPOS if they are allowed to drain, will drain completely and not work this requiring them to jump start. \n",
    "\n",
    "- **FAST and SLOW CHARGE**  Charges fast and slow as name suggest. Used in certain special cases.\n",
    "\n",
    "\n",
    "**Ok, basic question, How do I connect and charge?**\n",
    "\n",
    "![](https://abhisheksreesaila.github.io/blog/images/mushr-build-pics/battery_connection_method.png \"Battery - Charger Circuit\")\n",
    "\n",
    "![](https://abhisheksreesaila.github.io/blog/images/mushr-build-pics/battery_ui_values.png \"Battery UI Values\")\n",
    "\n",
    "\n",
    "**Do I ever going to need buy NiMH Batteries in the HARDWARE list section ?** No\n",
    "\n",
    "**Low Voltage - If you keep the lipo batteries unused too long, the voltage drains and results in an \"low voltage error\" when you charge them back in a battery**\n",
    "\n",
    "![](https://abhisheksreesaila.github.io/blog/images/mushr-build-pics/low_voltage_error.png \"Voltage Error Message\")\n",
    "\n",
    "- Use the NiMh option and charge the LIPO battey.  this acts as a booster and increases voltage rapidly.\n",
    "- Increase above 4A and keep it right around 5A\n",
    "> Important : After 5A, after you feel its stabliizies around 5A mark, UNPLUG, Dont get greedy.\n",
    "- charge LIPO using LIPO options as normal and now the LOW VOLTAGE message will be gone. \n",
    "\n",
    "\n",
    "![](https://abhisheksreesaila.github.io/blog/images/mushr-build-pics/voltage_error_soln.jpg \"Voltage Error Solution\")\n",
    "\n",
    "\n",
    "**Here is good video about various battery sources for your JETSON NANO**\n",
    "\n",
    "https://www.youtube.com/watch?v=B4afWen1CsY\n",
    "\n",
    "\n",
    "## Jetson Booting Problem\n",
    "\n",
    "### Jetson sometime does not bootup when you set the voltage to 5V in the BUCK Converter\n",
    "\n",
    "**Slightly raising the output voltage of the buck converter (say to 5.2V)** It is possible that when the Jetson Nano boots, the sudden required load current causes the buck converter's output voltage to momentarily drop below the Nano's minimum required voltage, so having it output a slightly higher voltage to compensate might allow it to successfully boot. Note that the Jetson Nano is spec'd to handle up to 5.25V, and also has an overvoltage protection circuit\n",
    "\n",
    "![](https://abhisheksreesaila.github.io/blog/images/mushr-build-pics/VoltageIncrease.jpg \"Raising the output voltage\")\n"
   ]
  },
  {
   "cell_type": "markdown",
   "metadata": {},
   "source": [
    "# References\n",
    "\n",
    "[Connect to RVIZ from the linux image](http://www.youbot-store.com/wiki/index.php/Visualizing_performance_of_robot_connected_via_SSH_in_Rviz_on_master_device)\n",
    "\n",
    "[Low Voltage Video](https://www.youtube.com/watch?v=clsBhxOo34Q)\n"
   ]
  },
  {
   "cell_type": "markdown",
   "metadata": {},
   "source": [
    "\n"
   ]
  },
  {
   "cell_type": "markdown",
   "metadata": {},
   "source": [
    "\n",
    "\n"
   ]
  }
 ],
 "metadata": {
  "kernelspec": {
   "display_name": "Python 3",
   "language": "python",
   "name": "python3"
  },
  "language_info": {
   "codemirror_mode": {
    "name": "ipython",
    "version": 3
   },
   "file_extension": ".py",
   "mimetype": "text/x-python",
   "name": "python",
   "nbconvert_exporter": "python",
   "pygments_lexer": "ipython3",
   "version": "3.7.6"
  }
 },
 "nbformat": 4,
 "nbformat_minor": 4
}
