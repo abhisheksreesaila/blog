{
 "cells": [
  {
   "cell_type": "markdown",
   "metadata": {},
   "source": [
    "# \"Atomic Habits - Review\"\n",
    "\n",
    "> \"Little drops make a mighty ocean, little (good) habits make a successful life\"\n",
    "\n",
    "- toc: true\n",
    "- branch: master\n",
    "- badges: false\n",
    "- comments: true\n",
    "- categories: [self help books]\n",
    "- hide: false\n",
    "- search_exclude: false\n",
    "- image: images/post-thumbnails/AtomicHabits.png\n",
    "- metadata_key1: Atomic Habits\n",
    "- metadata_key2: James Clear"
   ]
  },
  {
   "cell_type": "markdown",
   "metadata": {},
   "source": [
    "# Purpose\n",
    "\n",
    "Summarize the book \"Atomic Habits\" \n",
    "\n",
    "## Start Small (like really really really small) \n",
    "\n",
    "- If you want to develop a habit, start small. But people tend to start big even if they think its small. \n",
    "- The book talks about how a person wanting to get to GYM, started going to GYM, stay for 5 mins and come back home, for 4 weeks. \n",
    "- Eventually he developed a habit to go to GYM and become better. The principle is **\"Standardize, then optimize\"**\n",
    "- The book recommends the 2 minute rule :  The first version of the should be so small that it can be started and completed within 2 minutes.  (just like the line i am typing right now**)\n",
    "\n",
    "## It's ok to miss a day. but not 2.  \n",
    "\n",
    "- Often we going to strict routine and follow them to the tee, and after a day of disruption, give up telling ourselves that its worthless. \n",
    "- Missing 1 day is OK, dont miss 2 in a row. \n",
    "- Getting back in line is still waaaaaay better than giving up all the way.\n",
    "\n",
    "## Connecting developing one to an already developed habit\n",
    "\n",
    "- If you want to floss, keep next to the tooth brush\n",
    "\n",
    "\n",
    "## Remove friction towards good ones.  \n",
    "\n",
    "- If you are going to GYM, then **think of the smallest of things** like direction of driving, getting water, clothes in your closet etc. because each one of them are contributing to your resistance. When you remove them or smoothen them out, it will easy not to miss GYM and before you know you are on your way!!\n",
    "\n",
    "\n",
    "## Increase friction towards bad ones\n",
    "\n",
    "- Just place your remote in the other room and you wont watch hours of TV. \n",
    "- Just remove favorites in your browser and you wont watch youtube\n",
    "- Just move the junk good to a upper shelf, you will stop eating junk\n",
    "- Place the phone in the other room, you will stop addicted to your phone\n",
    "\n",
    "\n",
    "## Avoiding Procastination\n",
    "\n",
    "We always value present than future.  unless the present is rewarding we wont start.  we will look to the dream of achieving instead of hard work. Make the present rewarding, pleasant.\n",
    "\n",
    "- Break the future goal into different steps.\n",
    "- Ask yourself how you can enjoy the present.  Series of such experiences should be connected to a goal you are seeking.\n",
    "- GOAL : Getting fit is the goal, but going to GYM is bad\n",
    "  soln 1: Go to Gym and then you can get watch netflix for 30 mins\n",
    "  soln 2 : Better, go to treadmill and watch netflix in the gym\n",
    "  \n",
    "## Develop an identity based habit\n",
    "\n",
    "When we develop a habit, the best way to stick to it is cultivate an identity around it. For example, the goal is not be read 100 books, but the goal should be phrased to be say \"the goal is to become a READER\". the goal is not to run a marathon, but become a RUNNER\".\n",
    "\n",
    "\n",
    "Habit : Daily GITHUB check-ins. lot of work today. so added a 2 min rule (which took 2 mins to complete)\n",
    "\n",
    "## Habits can get boring\n",
    "\n",
    "When we develop a new habit, pretty soon the novelty dies and we can slip into complancency. Most habits we seek and develop require constant improvement. Instead of aiming to drastic improvements and giving up, we should seek organic small improvements. **In others words, aim for constant, small enough to make improvements with little effort and but LARGE enough to feel satisified**  At first, it can become a trial-and-error but you can reach local optimum pretty quickly and continue the effort OR else you will give up the habits you started with. For eg.  workouts. \n",
    "\n",
    "Boredom (not failure) is impediment to success. Professionals stick to schedule while amateurs lets life \"get in the way\" \n",
    "\n",
    "### Importance of Genes in building habits \n",
    "\n",
    "Genes only clarify what we need to choose to work on (not eliminate the need to work on)\n"
   ]
  },
  {
   "cell_type": "markdown",
   "metadata": {},
   "source": [
    "# References\n",
    "\n",
    "[James Clear Website and Book](https://jamesclear.com)\n",
    "\n"
   ]
  },
  {
   "cell_type": "markdown",
   "metadata": {},
   "source": [
    "\n"
   ]
  },
  {
   "cell_type": "markdown",
   "metadata": {},
   "source": [
    "\n",
    "\n"
   ]
  }
 ],
 "metadata": {
  "kernelspec": {
   "display_name": "Python 3",
   "language": "python",
   "name": "python3"
  },
  "language_info": {
   "codemirror_mode": {
    "name": "ipython",
    "version": 3
   },
   "file_extension": ".py",
   "mimetype": "text/x-python",
   "name": "python",
   "nbconvert_exporter": "python",
   "pygments_lexer": "ipython3",
   "version": "3.7.6"
  }
 },
 "nbformat": 4,
 "nbformat_minor": 4
}
