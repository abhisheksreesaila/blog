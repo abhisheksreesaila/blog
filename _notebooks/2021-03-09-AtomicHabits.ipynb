{
 "cells": [
  {
   "cell_type": "markdown",
   "metadata": {},
   "source": [
    "# \"Atomic Habits - Review\"\n",
    "\n",
    "> \"Little drops make a mighty ocean, little (good) habits make a successful life\"\n",
    "\n",
    "- toc: true\n",
    "- branch: master\n",
    "- badges: false\n",
    "- comments: true\n",
    "- categories: [Habits]\n",
    "- hide: false\n",
    "- search_exclude: false\n",
    "- image: images/post-thumbnails/AtomicHabits.png\n",
    "- metadata_key1: Atomic Habits\n",
    "- metadata_key2: James Clear"
   ]
  },
  {
   "cell_type": "markdown",
   "metadata": {},
   "source": [
    "# Purpose\n",
    "\n",
    "Summarize the book \"Atomic Habits\" \n",
    "\n",
    "## Start Small (like really really really small) \n",
    "\n",
    "- If you want to develop a habit, start small. But people tend to start big even if they think its small. \n",
    "- The book talks about how a person wanting to get to GYM, started going to GYM, stay for 5 mins and come back home, for 4 weeks. \n",
    "- Eventually he developed a habit to go to GYM and become better. The principle is \"Standardize, then optimize\" \n",
    "\n",
    "\n",
    "## It's ok to miss a day. but not 2.  \n",
    "\n",
    "- Often we going to strict routine and follow them to the tee, and after a day of disruption, give up telling ourselves that its worthless. \n",
    "- Missing 1 day is OK, dont miss 2 in a row. \n",
    "- Getting back in line is still waaaaaay better than giving up all the way.\n",
    "\n",
    "## Connecting 1 developed habit to a developing one\n",
    "\n",
    "- If you want to floss, keep next to the tooth brush\n",
    "\n",
    "\n",
    "## Remove friction towards good ones.  \n",
    "\n",
    "\n",
    "\n",
    "\n",
    "## Increase friction towards bad ones\n",
    "\n",
    "- Just place your remote in the other room and you wont watch hours of TV. \n",
    "- Just remove favorites in your browser and you wont watch youtube\n",
    "- Just move the junk good to a upper shelf, you will stop eating junk\n",
    "- Place the phone in the other room, you will stop addicted to your phone\n",
    "\n"
   ]
  },
  {
   "cell_type": "markdown",
   "metadata": {},
   "source": [
    "# References\n",
    "\n",
    "[James Clear Website and Book](https://jamesclear.com)\n",
    "\n"
   ]
  },
  {
   "cell_type": "markdown",
   "metadata": {},
   "source": [
    "\n"
   ]
  },
  {
   "cell_type": "markdown",
   "metadata": {},
   "source": [
    "\n",
    "\n"
   ]
  }
 ],
 "metadata": {
  "kernelspec": {
   "display_name": "Python 3",
   "language": "python",
   "name": "python3"
  },
  "language_info": {
   "codemirror_mode": {
    "name": "ipython",
    "version": 3
   },
   "file_extension": ".py",
   "mimetype": "text/x-python",
   "name": "python",
   "nbconvert_exporter": "python",
   "pygments_lexer": "ipython3",
   "version": "3.7.6"
  }
 },
 "nbformat": 4,
 "nbformat_minor": 4
}
