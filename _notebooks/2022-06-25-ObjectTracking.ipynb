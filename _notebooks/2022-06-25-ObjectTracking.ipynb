{
 "cells": [
  {
   "cell_type": "markdown",
   "metadata": {},
   "source": [
    "# \"Object Tracking\"\n",
    "\n",
    "> \"Track objects in a video\"\n",
    "\n",
    "- toc: true\n",
    "- branch: master\n",
    "- badges: false\n",
    "- comments: true\n",
    "- categories: [Computer Vision]\n",
    "- hide: false\n",
    "- search_exclude: false\n",
    "- image: images/post-thumbnails/mtl.png\n",
    "- metadata_key1: notes\n",
    "- metadata_key2: "
   ]
  },
  {
   "cell_type": "markdown",
   "metadata": {},
   "source": [
    "# Definition\n",
    "\n",
    "**SORT - simple online tracking tool**\n",
    "\n",
    "SORT is a method used to track object at real time. the output could look like below\n",
    "\n",
    "\n",
    "\n",
    "**Tracking by detection**\n",
    "- making use of object detection in consecutive frames\n",
    "- use kalman filter for estimating the motion\n",
    "- associate bounding boxes between frames using hungarian algo\n",
    "   - use IOU as cost\n",
    "   - but can use linear cost or exponential cost as well\n",
    "\n",
    "\n",
    "Code *here*\n",
    "\n",
    "**DeepSort**\n",
    "\n",
    "Improve SORT by including \"visual appearance\" along with state estimation with kalman filter for better predicability\n",
    "\n",
    "**Other improvements for SORT\n",
    "\n",
    "\n",
    "\n",
    "# References\n"
   ]
  },
  {
   "cell_type": "markdown",
   "metadata": {},
   "source": [
    "\n",
    "\n"
   ]
  },
  {
   "cell_type": "markdown",
   "metadata": {},
   "source": [
    "\n"
   ]
  },
  {
   "cell_type": "markdown",
   "metadata": {},
   "source": [
    "\n",
    "\n"
   ]
  },
  {
   "cell_type": "markdown",
   "metadata": {},
   "source": [
    "\n",
    " \n",
    " \n",
    "\n"
   ]
  },
  {
   "cell_type": "markdown",
   "metadata": {},
   "source": [
    "\n",
    "\n"
   ]
  }
 ],
 "metadata": {
  "kernelspec": {
   "display_name": "Python 3 (ipykernel)",
   "language": "python",
   "name": "python3"
  },
  "language_info": {
   "codemirror_mode": {
    "name": "ipython",
    "version": 3
   },
   "file_extension": ".py",
   "mimetype": "text/x-python",
   "name": "python",
   "nbconvert_exporter": "python",
   "pygments_lexer": "ipython3",
   "version": "3.8.11"
  }
 },
 "nbformat": 4,
 "nbformat_minor": 4
}
