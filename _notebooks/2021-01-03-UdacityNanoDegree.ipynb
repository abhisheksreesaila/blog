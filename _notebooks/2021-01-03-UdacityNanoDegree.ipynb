{
 "cells": [
  {
   "cell_type": "markdown",
   "metadata": {},
   "source": [
    "# \"Udacity Nanodegree\"\n",
    "\n",
    "> \"Collection of self driving projects developed as a part of Udacity Nanodegree\"\n",
    "\n",
    "- toc: true\n",
    "- branch: master\n",
    "- badges: false\n",
    "- comments: true\n",
    "- categories: [Robotics]\n",
    "- hide: false\n",
    "- search_exclude: false\n",
    "- image: images/post-thumbnails/udacity.png\n",
    "- metadata_key1: notes\n",
    "- metadata_key2: "
   ]
  },
  {
   "cell_type": "markdown",
   "metadata": {},
   "source": [
    "All the code is available [here](https://github.com/abhisheksreesaila/Udacity-Self-Driving-Car-Engineer)\n",
    "\n",
    "# Lane Detection\n",
    "\n",
    "The code and explanation is available [here](https://github.com/abhisheksreesaila/Adv-Lane-Lines-Detection/tree/923becba2904dff9030260b1c331ffe3cc94d1a8)\n",
    "\n",
    "> youtube: https://youtu.be/kFCjNd2kdr4\n",
    "\n",
    "\n",
    "# Traffic Sign Classifier\n",
    "\n",
    "The code and explanation is available [here](https://github.com/abhisheksreesaila/Traffic-Sign-Classifier/tree/ee832f55b697d289bf17b60cef9a18f0af7bd3a9)\n",
    "\n",
    "\n",
    "# State Estimation Via KalmanFilter\n",
    "\n",
    "The code and explanation is available [here](https://github.com/abhisheksreesaila/Extended-Kalman-Filters/tree/dfc21c2fe0317627cf99fa2801a9a2c86842a83f)\n",
    "\n",
    "> youtube: https://youtu.be/CHLoB8E8VqE\n",
    "\n",
    "\n",
    "# Path Planning\n",
    "\n",
    "The code and explanation is available [here](https://github.com/abhisheksreesaila/Path-Planning/tree/017035913984ee388ea26f3686f773f49d4d258b)\n",
    "\n",
    "> youtube: https://youtu.be/PedmiAVOSx0\n",
    "\n",
    "\n",
    "\n",
    "# Capstone : Self Driving on a real car\n",
    "\n",
    "The code and explanation is available [here](https://github.com/abhisheksreesaila/Capstone-Project/tree/39cd0f2fa80d2b68d62e09aa65f10016946f2111)\n",
    "\n",
    "\n"
   ]
  },
  {
   "cell_type": "markdown",
   "metadata": {},
   "source": [
    "\n",
    "\n"
   ]
  }
 ],
 "metadata": {
  "kernelspec": {
   "display_name": "Python 3 (ipykernel)",
   "language": "python",
   "name": "python3"
  },
  "language_info": {
   "codemirror_mode": {
    "name": "ipython",
    "version": 3
   },
   "file_extension": ".py",
   "mimetype": "text/x-python",
   "name": "python",
   "nbconvert_exporter": "python",
   "pygments_lexer": "ipython3",
   "version": "3.8.11"
  }
 },
 "nbformat": 4,
 "nbformat_minor": 4
}
