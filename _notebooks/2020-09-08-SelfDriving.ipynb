{
 "cells": [
  {
   "cell_type": "markdown",
   "metadata": {},
   "source": [
    "# \"How Do I...?\"\n",
    "> \"Some Frequently Asked Questions about how to configure the last step\"\n",
    "- toc: true\n",
    "- branch: master\n",
    "- badges: false\n",
    "- comments: true\n",
    "- categories: [self driving, gmapping, RVIZ]\n",
    "- hide: false\n",
    "- search_exclude: false\n",
    "- image: images/post-thumbnails/Final_Steps.png\n",
    "- metadata_key1: MUSHR\n",
    "- metadata_key2: RVIZ"
   ]
  },
  {
   "cell_type": "markdown",
   "metadata": {},
   "source": [
    "# Purpose\n",
    "\n",
    "Create a map, Configure VISUALIZATION and watch the car self-drive!\n",
    "\n",
    "# Steps\n",
    "\n",
    "\n",
    "## Set the ROS IP's variables in a car and virtual box\n",
    "\n",
    "\n",
    "export ROS_IP=192.168.0.180\n",
    "export ROS_MASTER_URI=http://192.168.0.180:11311\n",
    "\n",
    "\n",
    "####Connect to RVIZ from the linux image #######\n",
    "http://www.youbot-store.com/wiki/index.php/Visualizing_performance_of_robot_connected_via_SSH_in_Rviz_on_master_device\n",
    "\n",
    "\n",
    "## Create Maps\n",
    "\n",
    "\n",
    "\n",
    "\n",
    "\n",
    "## Start the engines\n",
    "\n",
    "\n",
    "\n",
    "\n",
    "\n",
    "## Wait...\n",
    "\n",
    "### Thing or 2 about battery, use LIPOS? How to connect?\n",
    "\n",
    "\n",
    "## Now, go....\n",
    "\n",
    "####### RUN #######\n",
    "roslaunch mushr_base teleop.launch\n",
    "roslaunch mushr_pf ParticleFilter.launch\n",
    "roslaunch mushr_rhc_ros real.launch\n",
    "\n",
    "rosrun rviz rviz\n",
    "\n",
    "####### GMAPPING #######\n",
    "To make a map from a robot with a laser publishing scans on the base_scan topic:\n",
    "\n",
    "roslaunch mushr_base teleop.launch\n",
    "rosrun gmapping slam_gmapping scan:=scan\n",
    "rosrun map_server map_saver -f mymap\n",
    "\n",
    "SPECIFY THE LOCATION OF THE MAP in the CONFIG FILE\n",
    "\n",
    "\n",
    "################ VESC Changes ##############\n",
    "\n",
    " nano /home/robot/catkin_ws/src/mushr/mushr_base/vesc/vesc_main/config/racecar-uw-nano/vesc.yaml \n",
    "\n",
    "################ MISC Changes ##############\n",
    "\n",
    "scp robot@192.168.0.11:~/mymapfloor.pgm ~/Desktop/\n",
    "\n",
    "scp  ~/Desktop/real-floor0.pgm robot@192.168.0.11:~\n",
    " \n",
    "sudo apt-get install imagemagick\n",
    "\n",
    "convert myapt.pgm myapt.png\n",
    "\n",
    "scp  ~/myapt.png \n",
    "\n",
    "############### Commands ##############\n",
    "\n",
    "\n"
   ]
  },
  {
   "cell_type": "markdown",
   "metadata": {},
   "source": [
    "\n"
   ]
  },
  {
   "cell_type": "markdown",
   "metadata": {},
   "source": [
    "\n",
    "\n"
   ]
  }
 ],
 "metadata": {
  "kernelspec": {
   "display_name": "Python 3",
   "language": "python",
   "name": "python3"
  },
  "language_info": {
   "codemirror_mode": {
    "name": "ipython",
    "version": 3
   },
   "file_extension": ".py",
   "mimetype": "text/x-python",
   "name": "python",
   "nbconvert_exporter": "python",
   "pygments_lexer": "ipython3",
   "version": "3.7.6"
  }
 },
 "nbformat": 4,
 "nbformat_minor": 4
}
