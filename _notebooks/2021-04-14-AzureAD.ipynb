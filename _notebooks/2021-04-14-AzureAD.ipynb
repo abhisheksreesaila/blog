{
 "cells": [
  {
   "cell_type": "markdown",
   "metadata": {},
   "source": [
    "# \"Understand Azure AD and OAuth 2.0\"\n",
    "\n",
    "> \"Protecting APIs with Azure AD\"\n",
    "- toc: true\n",
    "- branch: master\n",
    "- badges: false\n",
    "- comments: true\n",
    "- categories: [Azure]\n",
    "- hide: false\n",
    "- search_exclude: false\n",
    "- image: images/post-thumbnails/Azure-AD-Domain-Services.png\n",
    "- metadata_key1: Azure AD\n",
    "- metadata_key2:"
   ]
  },
  {
   "cell_type": "markdown",
   "metadata": {},
   "source": [
    "# Purpose\n",
    "\n",
    "Understand Azure AD OAuth 2.0 Token Generation and Validation\n",
    "\n",
    "# Terms \n",
    "\n",
    "- Azure AD = Azure Active Directory\n",
    "- OAuth 2.0 = Protocol\n",
    "- OpenIDConnect = Library that makes it easy to setup custom OAuth and Setup Azure\n",
    "\n",
    "\n",
    "# Steps\n",
    "\n",
    "\n",
    "## Registration\n",
    "\n",
    "- Register your app within AzureAD\n",
    "  - You will get an APP ID and TENANT ID\n",
    "\n",
    "## Create a secret\n",
    "\n",
    "- Create a client secret OR\n",
    "- Create a certificate in Azure Key Vault \n",
    "- Upload the .cer\n",
    "\n",
    "## Get the OAuth JWT Token\n",
    "  \n",
    "- Azure AD will provide you with endpoints\n",
    "\n",
    "- Request Template\n",
    "  - Provide the APPID and secret\n",
    "  - grant_type = client_credentials\n",
    "  - scope : api://<<appid>>\n",
    "    \n",
    "- Response will be JWT token\n",
    "    \n",
    "## Access Control\n",
    "    \n",
    "- App level permission - set roles\n",
    "    - works with token endpoints\n",
    "    - works at the app level\n",
    "- Delegate permissions - set scopes\n",
    "    - works with authorize endpoints\n",
    "    - works at a more granular level\n",
    "    \n",
    "## Add a authorized client application\n",
    "    \n",
    "- for any app withih the same subscription (or another subscription in cases for mulit-tenant apps)\n",
    "    - Go to \"expose an API -> add a authorized client application\"\n",
    "- this helps to use the same app registration and its corresponding configuration but all related apps.\n",
    "       - In other words, 1 app registration can accomodate multiple apps\n",
    "  \n",
    " #add roles\n",
    "    \n",
    "    -local\n",
    "    -global"
   ]
  },
  {
   "cell_type": "markdown",
   "metadata": {},
   "source": [
    "\n"
   ]
  },
  {
   "cell_type": "markdown",
   "metadata": {},
   "source": [
    "\n"
   ]
  },
  {
   "cell_type": "markdown",
   "metadata": {},
   "source": [
    "\n",
    "\n"
   ]
  }
 ],
 "metadata": {
  "kernelspec": {
   "display_name": "Python 3",
   "language": "python",
   "name": "python3"
  },
  "language_info": {
   "codemirror_mode": {
    "name": "ipython",
    "version": 3
   },
   "file_extension": ".py",
   "mimetype": "text/x-python",
   "name": "python",
   "nbconvert_exporter": "python",
   "pygments_lexer": "ipython3",
   "version": "3.7.6"
  }
 },
 "nbformat": 4,
 "nbformat_minor": 4
}
