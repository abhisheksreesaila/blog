{
 "cells": [
  {
   "cell_type": "markdown",
   "metadata": {},
   "source": [
    "# \"Stereo Vision\"\n",
    "\n",
    "> \"Two eyes are always better than one!\"\n",
    "\n",
    "- toc: true\n",
    "- branch: master\n",
    "- badges: false\n",
    "- comments: true\n",
    "- categories: [Computer Vision]\n",
    "- hide: false\n",
    "- search_exclude: false\n",
    "- image: images/post-thumbnails/sv2.png\n",
    "- metadata_key1: notes\n",
    "- metadata_key2: "
   ]
  },
  {
   "cell_type": "markdown",
   "metadata": {},
   "source": [
    "# Pinhole Camera Basics\n",
    "\n",
    "![](https://abhisheksreesaila.github.io/blog/images/stereo/pinhole.png \"Pinhole Camera\")\n",
    "\n",
    "![](https://abhisheksreesaila.github.io/blog/images/stereo/similartri.png \"Similar Triangles\")\n",
    "\n",
    "\n",
    "# Perspective Projection\n",
    "\n",
    "https://docs.opencv.org/3.4.3/d9/d0c/group__calib3d.html\n",
    "\n",
    "\n",
    "# Intrinsic and Extrinsic Parameters\n",
    "\n",
    "\n",
    "# Simple Stereo\n",
    "\n",
    "\n",
    "# Calibrated Stereo\n",
    "\n",
    "\n",
    "# Epipolar Geometry\n",
    "\n",
    "\n",
    "# Stereo Algorithms\n",
    "\n",
    "\n"
   ]
  },
  {
   "cell_type": "markdown",
   "metadata": {},
   "source": [
    "\n"
   ]
  },
  {
   "cell_type": "markdown",
   "metadata": {},
   "source": [
    "\n",
    "\n"
   ]
  }
 ],
 "metadata": {
  "kernelspec": {
   "display_name": "Python 3 (ipykernel)",
   "language": "python",
   "name": "python3"
  },
  "language_info": {
   "codemirror_mode": {
    "name": "ipython",
    "version": 3
   },
   "file_extension": ".py",
   "mimetype": "text/x-python",
   "name": "python",
   "nbconvert_exporter": "python",
   "pygments_lexer": "ipython3",
   "version": "3.7.6"
  }
 },
 "nbformat": 4,
 "nbformat_minor": 4
}
