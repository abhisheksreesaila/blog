{
 "cells": [
  {
   "cell_type": "markdown",
   "metadata": {},
   "source": [
    "# \"Stereo Vision\"\n",
    "\n",
    "> \"Two eyes are always better than one!\"\n",
    "\n",
    "- toc: true\n",
    "- branch: master\n",
    "- badges: false\n",
    "- comments: true\n",
    "- categories: [Computer Vision]\n",
    "- hide: false\n",
    "- search_exclude: false\n",
    "- image: images/post-thumbnails/sv2.png\n",
    "- metadata_key1: notes\n",
    "- metadata_key2: "
   ]
  },
  {
   "cell_type": "markdown",
   "metadata": {},
   "source": [
    "# Pinhole Camera Basics\n",
    "\n",
    "![](https://abhisheksreesaila.github.io/blog/images/stereo/pinhole.png \"Pinhole Camera\")\n",
    "\n",
    "Before we go explain this in detail lets clarify the terms\n",
    "\n",
    "- The object (flower) is said to be \"in the \"world\" and its position is given by \"world coordinates\"\n",
    "- Now imagine The light rays from the object pass through a pinhole and gets projected on a wall.  The wall  is the \"image plane\" and the hole it passes through is called the \"pinhole\". The camera is placed at the pinhole. The camera is said to be in the \"Camera plane\"\n",
    "- The distance between the camera placed at the pinhole and the wall (image plane) is called \"focal length\"\n",
    "\n",
    "\n",
    "\n",
    "> Note: Our goal is to take the 3D coordinates (x,y,z) and project them camera plane (3D) and then later to the image plane (2D).  \n",
    "\n",
    "We move from WORLD => CAMERA => IMAGE. This is called Forward Imaging Model. \n",
    "\n",
    "---\n",
    "\n",
    "# Intrinsic and Extrinsic Parameters\n",
    "\n",
    "Lets first move from WORLD => CAMERA\n",
    "\n",
    "Imagine a camera placed somewhere in an empty room other than the corners.  Fix a corner of this empty room as the origin.  Then camera is at a *distance* from this corner. Additionally it will be at an *angle* to the orgin of the world coordinate, in our case, the corner of the room we have chosen. In computer vision terms, the camera is said to be \"translated (geometric translation, not language tranlsation :) )  and \"rotated\" w.r.t to the world coordinate. Hence, we need some sort of translation and rotation variables that will help us take the world cooridinates of the image and project them to the camera first. Right? We call this \"Extrinsic Parameters\"\n",
    "\n",
    "Now, CAMERA => IMAGE. This is easy. We just have focal length (shown and described above). This is called Intrinsic parameters.\n",
    "\n",
    "---\n",
    "\n",
    "\n",
    "# Perspective Imaging with Pinhole\n",
    "\n",
    "\n",
    "![](https://abhisheksreesaila.github.io/blog/images/stereo/similartri.png \"Similar Triangles\")\n",
    "\n",
    "The above diagram is exactly same as \"Pinhole\" diagram with labels removed for explaining geometry.The yellow and blue triangles are similar.  By the property of similar triangles (see below note), we have\n",
    "\n",
    "$r_i/f = r_o/z$\n",
    "\n",
    "$ r_i $ and $ r_o $ are [vectors](https://mathinsight.org/vector_introduction) describing the point on the image and world respectively. Hence we can split and write the equation as $\n",
    "\n",
    "\n",
    "> Note: Triangles are set to be \"similar\" if they are of the same shape but not necessarily the same size. If 2 triangles have this property then \n",
    "  *$AB/DE = BC/EF$*\n",
    "\n",
    "![](https://abhisheksreesaila.github.io/blog/images/stereo/s-triangles.png \"Similar Triangles Concept\")\n",
    "\n",
    "\n",
    "\n",
    "---\n",
    "\n",
    "# Simple Stereo\n",
    "\n",
    "\n",
    "# Calibrated Stereo\n",
    "\n",
    "\n",
    "# Epipolar Geometry\n",
    "\n",
    "\n",
    "# Stereo Algorithms\n",
    "\n",
    "\n",
    "# References\n",
    "\n",
    "[OpenCV Calibration](https://docs.opencv.org/3.4.3/d9/d0c/group__calib3d.html)\n",
    "\n",
    "[Geometry of Image Formation](https://learnopencv.com/camera-calibration-using-opencv/)\n",
    "\n"
   ]
  },
  {
   "cell_type": "markdown",
   "metadata": {},
   "source": [
    "\n"
   ]
  },
  {
   "cell_type": "markdown",
   "metadata": {},
   "source": [
    "\n",
    "\n"
   ]
  }
 ],
 "metadata": {
  "kernelspec": {
   "display_name": "Python 3 (ipykernel)",
   "language": "python",
   "name": "python3"
  },
  "language_info": {
   "codemirror_mode": {
    "name": "ipython",
    "version": 3
   },
   "file_extension": ".py",
   "mimetype": "text/x-python",
   "name": "python",
   "nbconvert_exporter": "python",
   "pygments_lexer": "ipython3",
   "version": "3.7.6"
  }
 },
 "nbformat": 4,
 "nbformat_minor": 4
}
