{
 "cells": [
  {
   "cell_type": "markdown",
   "metadata": {},
   "source": [
    "# \"Building a self driving car - Software Configuration\"\n",
    "> \"Preparng software while waiting for the parts to arrive. Lets begin...\"\n",
    "- toc: true\n",
    "- branch: master\n",
    "- badges: false\n",
    "- comments: true\n",
    "- categories: [self driving, software]\n",
    "- hide: false\n",
    "- search_exclude: false\n",
    "- metadata_key1: MUSHR\n",
    "- metadata_key2: Software"
   ]
  },
  {
   "cell_type": "markdown",
   "metadata": {},
   "source": [
    "# Purpose\n",
    "\n",
    "The intention of this page is NOT to replace the existing documentation by MUSHR. Please follow them [here](https://mushr.io), buit visit this page if things dont go as planned. \n",
    "\n",
    "![](https://abhisheksreesaila.github.io/blog/images/sw_process_flowchart.png \"Process Flow\")\n",
    "\n",
    "\n",
    "# Scenarios\n",
    "\n",
    "## Monitor not booting up, after MUSHR image is installed. How do i proceed?\n",
    "\n",
    "**Issue**\n",
    "\n",
    "When you install the stock image of JETSON NANO using [BelenaEtcher](https://www.balena.io/etcher), connect JETSON NANO using HDMI, NAno boots and you can see the Linux GUI. But, if you do the same exact same thing using [MUSHR IMAGE](https://drive.google.com/file/d/17Xn63ZWA_e3DVxt_ajhzu-uKW0hUG4iX/view?usp=sharing), it does not show the GUI. without the GUI, software config is almost impossible (*well, I am not referring to LINUX gurus here, everything possible from a GUI is also possible with command line in LINUX*). In other words, we need the GUI working.\n",
    "\n",
    "\n",
    "**Solution**\n",
    "\n",
    "> Important: If you have a monitor that supports DISPLAY PORT, use it!! Instant solution. (Time saving : 3-4 days)\n",
    "\n",
    "If you only have HDMI port, read on.\n",
    "\n"
   ]
  },
  {
   "cell_type": "markdown",
   "metadata": {},
   "source": [
    "To troubleshoot the issue, \n",
    "\n",
    "You need to LOGIN (using SSH). For SSH, you need WIFI, For WIFI you need to LOGIN. Get it! chicken-egg problem? Almost. There is one possible solution, **Hard-wired USB connection**\n",
    "\n",
    "- Connect the **MICRO USB** port of NANO to the **USB PORT** of your laptop (also known as HEADLESS LOGIN)\n",
    "\n",
    "**HEADLESS LOGIN (on a Mac)**\n",
    "\n",
    "```bash\n",
    "\n",
    " #Go to dev directory\n",
    "cd /dev  \n",
    "\n",
    " #check for all things like tty and usb\n",
    "ls *tty*usb*       \n",
    "tty.usbmodem146123  # result (yours might be slightly different)\n",
    "\n",
    " #use the screen command with the result of previous step + serial interface number\n",
    "screen tty.usbmodem146123 115200  #  115200 is the Jetson serial interface. \"screen\" is installed on a mac by default\n",
    "\n",
    "# (It will ask for SUDO login and password)\n",
    "\n",
    "```\n",
    "\n",
    "**ACTIVATE THE ROOT in JETSON NANO**\n",
    "\n",
    "Be aware that the root account is not active by default. You will need to do:\n",
    "\n",
    "```bash\n",
    "sudo passwd root\n",
    "```\n",
    "\n",
    "Then go ahead to set password. Use the root user using\n",
    "\n",
    "```bash\n",
    "su root\n",
    "```\n",
    "\n",
    "**USE WPA_SUPPLICANT TO CONNECT** \n",
    "\n",
    "- My references\n",
    " - [Wiki](https://wiki.archlinux.org/index.php/Wpa_supplicant)\n",
    " - [bbs.archlinux.org](https://bbs.archlinux.org/viewtopic.php?id=234877)\n",
    " - [linuxcommando](https://linuxcommando.blogspot.com/2013/10/how-to-connect-to-wpawpa2-wifi-network.html)\n",
    "\n",
    "```bash\n",
    "\n",
    "# CREATE a file at */etc/wpa_supplicant/wpa_supplicant.conf*\n",
    "\n",
    "vi /etc/wpa_supplicant/wpa_supplicant.conf\n",
    "\n",
    "# PRESS \"I\" to start insert mode  \n",
    "\n",
    "# Add this content to the file\n",
    "\n",
    "ctrl_interface=/run/wpa_supplicant\n",
    "update_config=1\n",
    "\n",
    "# PRESS \":wq\" to save and quit the editor\n",
    "\n",
    "# Then, run this command\n",
    "\n",
    "wpa_supplicant -B -i wlan0 -c /etc/wpa_supplicant/wpa_supplicant.conf\n",
    "\n",
    "wpa_cli -i wlan0\n",
    "\n",
    "# This will present an interactive prompt (>), which has tab completion and descriptions of completed commands.\n",
    "\n",
    "scan\n",
    "\n",
    "# Ok\n",
    "# <3>CTRL-EVENT-SCAN-RESULTS\n",
    "\n",
    "scan_results\n",
    "\n",
    "# bssid / frequency / signal level / flags / ssid\n",
    "# 00:00:00:00:00:00 2462 -49 [WPA2-PSK-CCMP][ESS] MYSSID\n",
    "# 11:11:11:11:11:11 2437 -64 [WPA2-PSK-CCMP][ESS] ANOTHERSSID\n",
    "\n",
    "add_network\n",
    "# 0\n",
    "\n",
    "set_network 0 ssid \"MYSSID\"\n",
    "\n",
    "set_network 0 psk \"passphrase\"\n",
    "\n",
    "enable_network 0\n",
    "\n",
    "#<2>CTRL-EVENT-CONNECTED - Connection to 00:00:00:00:00:00 completed (reauth) [id=0 id_str=]\n",
    "\n",
    "save_config\n",
    "# OK\n",
    "\n",
    "quit\n",
    " \n",
    "```"
   ]
  },
  {
   "cell_type": "markdown",
   "metadata": {},
   "source": [
    "\n",
    "**Check if the wireless device is up**\n",
    "\n",
    "```bash\n",
    "ip link show wlan0    #Look for the word \"UP\" inside the brackets in the first line of the output.\n",
    "\n",
    "/sbin/iw wlan0 link  # Connected to <your network>>\n",
    "\n",
    "ping google.com    # testng if it connects\n",
    "\n",
    "ifconfig  #GET the IP. Needed to connect to SSH. Uff, finally!\n",
    "\n",
    "```"
   ]
  },
  {
   "cell_type": "markdown",
   "metadata": {},
   "source": [
    "## Connect to the JETSON NANO\n",
    "\n",
    "Open a terminal window\n",
    "\n",
    "```bash\n",
    "ssh robot@IP_ADDRESS  #enter your IP address\n",
    "\n",
    "```\n",
    "Open another terminal window\n",
    "```bash\n",
    "ssh robot@IP_ADDRESS  #enter your IP address\n",
    "dmesg −−follow\n",
    "````\n",
    "\n",
    "Plug the HDMI cable to JETSON NANO"
   ]
  },
  {
   "cell_type": "markdown",
   "metadata": {},
   "source": [
    "## HDID ERROR"
   ]
  },
  {
   "cell_type": "code",
   "execution_count": null,
   "metadata": {},
   "outputs": [],
   "source": []
  },
  {
   "cell_type": "markdown",
   "metadata": {},
   "source": [
    "\n",
    "# Testing \n",
    "\n",
    "## Testing Bluetooth"
   ]
  },
  {
   "cell_type": "markdown",
   "metadata": {},
   "source": [
    "```bash\n",
    "\n",
    "jstest-gtk\n",
    "\n",
    "```\n",
    "    "
   ]
  },
  {
   "cell_type": "markdown",
   "metadata": {},
   "source": []
  },
  {
   "cell_type": "markdown",
   "metadata": {},
   "source": [
    " \n",
    "\n",
    "```bash\n",
    "export ROS_IP=<<YOUR_IP_ADDRESS>>\n",
    "export ROS_MASTER_URI=http://<<YOUR_IP_ADDRESS>>:11311\n",
    "```\n",
    "    "
   ]
  },
  {
   "cell_type": "markdown",
   "metadata": {},
   "source": [
    "\n"
   ]
  },
  {
   "cell_type": "markdown",
   "metadata": {},
   "source": []
  },
  {
   "cell_type": "markdown",
   "metadata": {},
   "source": [
    "\n",
    "\n"
   ]
  }
 ],
 "metadata": {
  "kernelspec": {
   "display_name": "Python 3",
   "language": "python",
   "name": "python3"
  },
  "language_info": {
   "codemirror_mode": {
    "name": "ipython",
    "version": 3
   },
   "file_extension": ".py",
   "mimetype": "text/x-python",
   "name": "python",
   "nbconvert_exporter": "python",
   "pygments_lexer": "ipython3",
   "version": "3.7.6"
  }
 },
 "nbformat": 4,
 "nbformat_minor": 4
}
