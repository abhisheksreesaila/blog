{
 "cells": [
  {
   "cell_type": "markdown",
   "metadata": {},
   "source": [
    "# \"CMake Basics\"\n",
    "\n",
    "> \"Basic CMake concepts \"\n",
    "\n",
    "- toc: true\n",
    "- branch: master\n",
    "- badges: false\n",
    "- comments: true\n",
    "- categories: [ROS]\n",
    "- hide: false\n",
    "- search_exclude: false\n",
    "- image: images/post-thumbnails/cmake.png\n",
    "- metadata_key1: c++\n",
    "- metadata_key2: cmake"
   ]
  },
  {
   "cell_type": "markdown",
   "metadata": {},
   "source": [
    "\n",
    "```c++\n",
    "\n",
    "# boiler plate\n",
    "\n",
    "# cmake installed or version \n",
    "cmake_minimum_requred(VERSION 3.10)\n",
    "\n",
    "#project name\n",
    "project(<<your project name>>)\n",
    "\n",
    "# set the c++ standard in your project\n",
    "set(cmake_cxx_standard 11)\n",
    "set(cmake_cxx_standard_required True)\n",
    "\n",
    "# like print\n",
    "message(\"any message you want to print\")\n",
    "\n",
    "\n",
    "#create executable\n",
    "add_executable(<<exec name>> program.cpp)\n",
    "\n",
    "/*\n",
    "- Create a library (SHARED or static). \n",
    "- The difference between them is that when its declared as STATIC, all the code is inserted into the main program, hence the main program is indepedent,SHARED = opposite, hence smaller in size\n",
    "*/\n",
    " \n",
    " \n",
    "add_library(<<lib exec name>> SHARED (or STATIC) /path/to/lib.cpp) \n",
    "\n",
    "/*\n",
    "- force the executable and library to build into a path you can look at it later(and not guess)\n",
    "- CMAKE_BINARY_PATH = default variable given by CMAKE\n",
    "- where ever you rum the CMAKE command. Usually in the BUILD folder\n",
    "*/\n",
    "\n",
    "- set(EXECUTABLE_OUTPUT_PATH ${CMAKE_BINARY_PATH}/bin)\n",
    "- set(LIBRARY_OUTPUT_PATH ${CMAKE_BINARY_PATH}/lib)\n",
    "\n",
    "# now that we build and forced them to go into a path, lets link both the MAIN <-> LIB\n",
    "target_link_libraries(<<main exec name>> <<library exec name>>)\n",
    "\n",
    "\n",
    "#in case you want to find popular package\n",
    "\n",
    "find_package(<<package name>>)\n",
    "\n",
    "if(<<package name>>_FOUND)\n",
    "  message (\"Found!\")\n",
    "  include_directories(${<<packagen name>>_INCLUDE_DIRS})\n",
    "  target_link_libraries(<<main exec name>> ${<<package name>>_LIBRARIES})\n",
    "else if (NOT <<package name>>_FOUND)\n",
    "  message(\"not found!\")\n",
    "endif()\n",
    "\n",
    "\n",
    "```\n"
   ]
  },
  {
   "cell_type": "markdown",
   "metadata": {},
   "source": [
    "\n"
   ]
  },
  {
   "cell_type": "markdown",
   "metadata": {},
   "source": [
    "\n"
   ]
  },
  {
   "cell_type": "markdown",
   "metadata": {},
   "source": [
    "\n",
    "\n"
   ]
  }
 ],
 "metadata": {
  "kernelspec": {
   "display_name": "Python 3",
   "language": "python",
   "name": "python3"
  },
  "language_info": {
   "codemirror_mode": {
    "name": "ipython",
    "version": 3
   },
   "file_extension": ".py",
   "mimetype": "text/x-python",
   "name": "python",
   "nbconvert_exporter": "python",
   "pygments_lexer": "ipython3",
   "version": "3.7.6"
  }
 },
 "nbformat": 4,
 "nbformat_minor": 4
}
