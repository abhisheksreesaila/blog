{
 "cells": [
  {
   "cell_type": "markdown",
   "metadata": {},
   "source": [
    "# \"NVIDA GTC 2021 Summary\"\n",
    "\n",
    "> \"My notes from the talks from NVIDIA GTC 2021\"\n",
    "\n",
    "- toc: true\n",
    "- branch: master\n",
    "- badges: false\n",
    "- comments: true\n",
    "- categories: [NVIDIA-GTC-21]\n",
    "- hide: false\n",
    "- search_exclude: false\n",
    "- image: images/post-thumbnails/gtc2021.jpg\n",
    "- metadata_key1: GTC\n",
    "- metadata_key2: "
   ]
  },
  {
   "cell_type": "markdown",
   "metadata": {},
   "source": [
    "# Overall\n",
    "\n",
    "Most of the current self driving problems seems to have been related to simulation-to-real deployment. Simulations have to get better, time for creating such scenarios have to be very small to be productive.   \n",
    "\n",
    "# Future of Self Driving\n",
    "\n",
    "4 issues currently.\n",
    "\n",
    "virtual scenarios\n",
    "virtual worlds\n",
    "Virtual behaviors\n",
    "\n",
    "\n",
    "\n",
    "\n",
    "# Energy Based Learning\n",
    "\n",
    "Based on self supervised learning\n",
    "\n",
    "2 types\n",
    "    limited samples - model derives patterns\n",
    "    no samples - model derives patterns\n",
    "\n",
    "\n",
    "\n",
    "# Zoosk - Car riding company\n",
    "\n",
    "- Symmetrical car design\n",
    "- Facilitates more effective spacing of sensors\n",
    "- Tested on SF urban roads\n",
    "- Highlighted that simulations are more effective and hence needs to become even better. \n",
    "\n",
    "# Azure AI for Earth Planetary Compute\n",
    "\n",
    "\n",
    "\n"
   ]
  },
  {
   "cell_type": "markdown",
   "metadata": {},
   "source": [
    "\n"
   ]
  },
  {
   "cell_type": "markdown",
   "metadata": {},
   "source": [
    "\n"
   ]
  },
  {
   "cell_type": "markdown",
   "metadata": {},
   "source": [
    "\n",
    "\n"
   ]
  }
 ],
 "metadata": {
  "kernelspec": {
   "display_name": "Python 3",
   "language": "python",
   "name": "python3"
  },
  "language_info": {
   "codemirror_mode": {
    "name": "ipython",
    "version": 3
   },
   "file_extension": ".py",
   "mimetype": "text/x-python",
   "name": "python",
   "nbconvert_exporter": "python",
   "pygments_lexer": "ipython3",
   "version": "3.7.6"
  }
 },
 "nbformat": 4,
 "nbformat_minor": 4
}
