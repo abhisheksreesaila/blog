{
 "cells": [
  {
   "cell_type": "markdown",
   "metadata": {},
   "source": [
    "# \"Building a self driving car\"\n",
    "> \"This is my attempt to learn robotics by learning to build a self driving car.\"\n",
    "- toc: true\n",
    "- branch: master\n",
    "- badges: false\n",
    "- comments: true\n",
    "- categories: [self driving, hardware setup]\n",
    "- image: images/selfdriving/Logo.png\n",
    "- hide: false\n",
    "- search_exclude: true\n",
    "- metadata_key1: MUSHR\n",
    "- metadata_key2: ROS\n",
    "\n"
   ]
  },
  {
   "cell_type": "markdown",
   "metadata": {},
   "source": [
    "## Purpose\n",
    "\n",
    "To build a low cost self driving car inspired from the paper https://arxiv.org/abs/1908.08031. They have provided excellent documentation and steps necessary to build a autonomous car. I completed [Udacity Nano Degree on Self Driving](https://www.udacity.com/course/self-driving-car-engineer-nanodegree--nd013) and understood the theory, but never really thought i could experience the joy and thrill of building my own CAR that can drive itself. \n",
    "\n",
    "## Background\n",
    "\n",
    "My background was in computer science and have no experience in electronics. So when i visted [MUSHR.IO] (https://mushr.io) website, I was intimidated. I felt this was meant to be for hackers and electronics geeks who understood coding and not the other way around. When I watched their videos, I was impressed that the team at MUSHR has explained it step-by-step. Additionally, they report in their website that its \"Classroom-tested\" which i wanted to hear. So i decided to jump-in with blind faith that it will be worth my time. \n",
    "\n",
    "## The missing manual\n",
    "\n",
    "MUSHR team have excellent documentation which helps anyone understand and build a self driving car. But there is a saying \n",
    "> \"In theory, there is no difference between theory and practice. In practice, there is\"\n",
    "\n",
    "Over the next few sections, I will report all the issue I faced and my attemps to fix it. Someone of them are major issue, some of them are super silly, but nevertheless you need to ovecome inorder to proceed. \n",
    "\n"
   ]
  },
  {
   "cell_type": "markdown",
   "metadata": {},
   "source": [
    "**Acquiring the parts**\n",
    "\n",
    "Setup Hardware\n",
    "\n",
    "Setup Software"
   ]
  },
  {
   "cell_type": "code",
   "execution_count": null,
   "metadata": {},
   "outputs": [],
   "source": []
  },
  {
   "cell_type": "markdown",
   "metadata": {},
   "source": [
    "<style>\n",
    ".text_cell_render {\n",
    "font-family: Times New Roman, serif;\n",
    "}\n",
    "</style>"
   ]
  }
 ],
 "metadata": {
  "kernelspec": {
   "display_name": "Python 3",
   "language": "python",
   "name": "python3"
  },
  "language_info": {
   "codemirror_mode": {
    "name": "ipython",
    "version": 3
   },
   "file_extension": ".py",
   "mimetype": "text/x-python",
   "name": "python",
   "nbconvert_exporter": "python",
   "pygments_lexer": "ipython3",
   "version": "3.7.6"
  }
 },
 "nbformat": 4,
 "nbformat_minor": 4
}
