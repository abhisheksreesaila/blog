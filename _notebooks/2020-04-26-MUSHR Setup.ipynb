{
 "cells": [
  {
   "cell_type": "markdown",
   "metadata": {},
   "source": [
    "# \"Purchase and Setup\"\n",
    "> \"This is my attempt to learn robotics by learning to build a self driving car.\"\n",
    "- toc: true\n",
    "- branch: master\n",
    "- badges: false\n",
    "- comments: true\n",
    "- categories: [self driving, purchasing parts]\n",
    "- hide: false\n",
    "- search_exclude: false\n",
    "- image: images/post-thumbnails/Purchasing_Parts.png\n",
    "- metadata_key1: MUSHR\n",
    "- metadata_key2: ROS"
   ]
  },
  {
   "cell_type": "markdown",
   "metadata": {},
   "source": [
    "# Purpose\n",
    "\n",
    "To build a low cost self driving car inspired from the paper [MuSHR: A Low-Cost, Open-Source Robotic Racecar for Education and Research](https://arxiv.org/abs/1908.08031). They have provided excellent documentation and steps necessary to build a autonomous car. I completed [Udacity Nano Degree on Self Driving](https://www.udacity.com/course/self-driving-car-engineer-nanodegree--nd013) and understood the theory, but never really thought i could experience the joy and thrill of building my own CAR that can drive itself. \n",
    "\n",
    "# Background\n",
    "\n",
    "My background was in computer science and have no experience in electronics. So when i visted [MUSHR](https://mushr.io) website, I was intimidated. I felt this was meant to be for hackers and electronics geeks who understood coding and not the other way around. When I watched their [videos](https://www.youtube.com/watch?v=NP7qljzG3RU&list=PLU9BrzGX4PH2DHZzxOg2gEkLMXhpkS7fV), I was impressed that the team at MUSHR has explained it step-by-step. Additionally, they report in their website that its \"Classroom-tested\" which i wanted to hear. So i decided to jump-in with blind faith that it will be worth my time. \n",
    "\n",
    "# The Missing Manual\n",
    "\n",
    "MUSHR team have excellent documentation which helps anyone understand and build a self driving car. But there is a saying \n",
    ">  In theory, there is no difference between theory and practice. In practice, there is\"\n",
    "\n",
    "Over the next few sections, I will report all the issue I faced and my attemps to fix it. Someone of them are major issues and some super silly, but nevertheless you need to ovecome them in order to proceed. \n"
   ]
  },
  {
   "cell_type": "markdown",
   "metadata": {},
   "source": [
    "## Acquiring the parts\n",
    "\n",
    "All the materials needed for the projects and outlined [here](https://mushr.io/hardware/build_instructions/) It even provides links to various websites to order parts. \n",
    "\n",
    "![](https://abhisheksreesaila.github.io/blog/images/general/process_flowchart.png \"https://abhisheksreesaila.github.io/blog/\")\n"
   ]
  },
  {
   "cell_type": "markdown",
   "metadata": {},
   "source": [
    "\n",
    "### Tip 1 : Order the 3D parts first ###\n",
    "\n",
    "> Important: There are 3D printed parts needed to complete the assembly. Might add \"weeks\" to your project if taken lightly. \n",
    "\n",
    "Order the 3D parts [here](https://github.com/prl-mushr/mushr_cad/tree/master/v3/stl)\n",
    "\n",
    "Ordering the 3D printed parts is tricky. The local library will be cheap but will take weeks before they complete. On the other hand, there are industries who can finish in 2 days, but will charge ~400-500 bucks. After a lot of research I found [3DHUBS](https://www.3dhubs.com). They are fast (3-4 day shippng time) and cheaper than most of them I could find on the internet.\n",
    "\n",
    "- They need your offical/school email ID (not personal gmail/outlook)\n",
    "- Choose **Standard PLA (FDM)**  This is the cheapest material.\n",
    "- DO NOT **order racecar_cover_number.stl, racecar_cover_text.stl, racecar_cover_image.stl**   It's not needed to build the assembly and will save you about $30-40. Moreover, 3dhubs will report these as errors which are tough to fix (not a good use of your time)\n",
    "\n",
    "> Important: By the way it will cost you around ~$175\n"
   ]
  },
  {
   "cell_type": "markdown",
   "metadata": {},
   "source": [
    "### Tip 2 : Order Tools and Accessories ###\n",
    "\n",
    "Apart from ordering parts from https://mushr.io/hardware/build_instructions/ there are extra tools needed which are assumed to be present in every household. Make sure you order the following parts also. \n",
    "\n",
    "- [Screw Driver Set (115 in 1 Magnetic Screwdriver)](https://www.amazon.com/gp/product/B07WVWZS7P/ref=ppx_yo_dt_b_asin_title_o04_s00?ie=UTF8&psc=1) *You need screw driver bits of various shapes and sizes to finish the project, so do not assume your 1/2 favorite screw driver will work in this case*\n",
    "- [Crimping tool](https://www.amazon.com/gp/product/B073YG65N2/ref=ppx_yo_dt_b_asin_title_o09_s00?ie=UTF8&psc=1)\n",
    "- [HandGun](https://www.amazon.com/gp/product/B00EU2T8GG/ref=ppx_yo_dt_b_asin_title_o09_s00?ie=UTF8&psc=1)\n",
    "- [Soldering Kit](https://www.amazon.com/gp/product/B06XZ31W3M/ref=ppx_yo_dt_b_asin_title_o07_s00?ie=UTF8&psc=1)\n",
    "- [HXT 4mm Bullet to Male T-Plug Connector](https://www.amazon.com/BDHI-Female-Bullet-Connector-Adapter/dp/B082VWMGSB/ref=sr_1_6?dchild=1&keywords=HXT+4mm+Bullet+to+Male+T-Plug&qid=1588432455&sr=8-6)\n",
    "\n",
    "**Optional Tools**\n",
    "\n",
    "> Important: Applicable to only MACBOOK and USBC-only windows laptop. Find similar products to suit your laptop configuration. \n",
    "\n",
    "- [MEMORY CARD reader](https://www.amazon.com/gp/product/B01J6DT070/ref=ppx_yo_dt_b_asin_title_o09_s00?ie=UTF8&psc=1)\n",
    "- [DISPLAY PORT Cable](https://www.amazon.com/gp/product/B07D1J88CF/ref=ppx_yo_dt_b_asin_title_o04_s00?ie=UTF8&psc=1)\n",
    "\n"
   ]
  },
  {
   "cell_type": "markdown",
   "metadata": {},
   "source": [
    "### Tip 3 : Order REDCAT with Brushless Motor installed ###\n",
    "\n",
    "In the instructions manual, there are 2 options for provided for the Redcat Racing Blackout. \n",
    "\n",
    "- Choose the one with [BRUSHLESS MOTOR](https://www.amazon.com/gp/product/B00VRNR9O4/ref=ppx_yo_dt_b_asin_title_o06_s00?ie=UTF8&psc=1)\n",
    "- DO NOT ORDER \"Sensorless Brushless Motor\" (saves $30)\n"
   ]
  },
  {
   "cell_type": "markdown",
   "metadata": {},
   "source": [
    "### Tip 4 : Picking the right VESC ###\n",
    "\n",
    "This is the order of recommendation. \n",
    "\n",
    "- [Turnigy version](https://hobbyking.com/en_us/turnigy-sk8-esc-v4-12-for-electric-skateboard-conversion-w-bec.html) (Recommended. No soldering required)\n",
    "\n",
    "- [Flipsky version](https://www.amazon.com/HGLRC-FLIPSKY-SK8-ESC-Electric-Skateboard-EScooter/dp/B07GFB55NV) (I ordered this due to \"out of stock\" on other items) \n",
    "\n",
    "- [MayTech version](https://www.robotshop.com/en/maytech-50a-brushless-speed-controller-compatible-with-vesc-software.html)"
   ]
  },
  {
   "cell_type": "markdown",
   "metadata": {},
   "source": [
    "### Tip 5 : Misc Tips ###\n",
    "\n",
    "- **Intel RealSense T265** is not needed for your first version of the car. You can add later if you choose to. \n",
    "- Solderless Wire Connector from the instructions is currently unavailable. Use this link as an [altenative](https://www.amazon.com/dp/B01DPS3ZBE/ref=sspa_dk_detail_4?psc=1&pd_rd_i=B01DPS3ZBE&pd_rd_w=SDWGM&pf_rd_p=48d372c1-f7e1-4b8b-9d02-4bd86f5158c5&pd_rd_wg=vDs8m&pf_rd_r=Q9B38BQSZ5SBMH0R6VD6&pd_rd_r=bb566064-85c9-404a-a68e-c23d4c5d3fb6&spLa=ZW5jcnlwdGVkUXVhbGlmaWVyPUEzVFlYRFVFNk1PQ0xPJmVuY3J5cHRlZElkPUEwOTI3OTg0QzUyRklISDdSQTlHJmVuY3J5cHRlZEFkSWQ9QTA5NjM2NzUyUkEyMjA2NTE1SDQ4JndpZGdldE5hbWU9c3BfZGV0YWlsJmFjdGlvbj1jbGlja1JlZGlyZWN0JmRvTm90TG9nQ2xpY2s9dHJ1ZQ==)\n",
    "\n"
   ]
  }
 ],
 "metadata": {
  "kernelspec": {
   "display_name": "Python 3",
   "language": "python",
   "name": "python3"
  },
  "language_info": {
   "codemirror_mode": {
    "name": "ipython",
    "version": 3
   },
   "file_extension": ".py",
   "mimetype": "text/x-python",
   "name": "python",
   "nbconvert_exporter": "python",
   "pygments_lexer": "ipython3",
   "version": "3.7.6"
  }
 },
 "nbformat": 4,
 "nbformat_minor": 4
}
