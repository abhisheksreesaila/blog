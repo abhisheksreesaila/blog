{
 "cells": [
  {
   "cell_type": "markdown",
   "metadata": {},
   "source": [
    "# \"MindMap - Become more creative and productive\"\n",
    "\n",
    "> \"Known to improve your brain 1000x\"\n",
    "\n",
    "- toc: true\n",
    "- branch: master\n",
    "- badges: false\n",
    "- comments: true\n",
    "- categories: [Others]\n",
    "- hide: false\n",
    "- search_exclude: false\n",
    "- image: images/post-thumbnails/mind-map.png\n",
    "- metadata_key1: Productivity\n",
    "- metadata_key2:"
   ]
  },
  {
   "cell_type": "markdown",
   "metadata": {},
   "source": [
    "\n",
    "# Mind Map.  Why?\n",
    "\n",
    "If you take a cross section of the brain, its looks like interconnected wires. If you model your outside world, like the internal, then its \"natural\" and promotes better creation of new ideas. If your force yourself to be \"neat\" then there is friction or what is commonly known as the \"writers block\".\n",
    "\n",
    "While traditional list-based note taking works, mind map takes this to the next level by adding color, images and free flow format that is absent in lists. This has helped me refer the material easily since i can glance all-at-once quickly, or go to a section without hunting and pecking. Colors and images aids recall and presents the materials in a fun and entertaining way and makes the whole note-taking experience \"playful\" rather than work.\n",
    "\n",
    "![](https://abhisheksreesaila.github.io/blog/images/general/mindmap_adv.png)\n",
    "\n",
    "\n",
    "# Mind Map.  How?\n",
    "\n",
    "## Guidelines\n",
    "\n",
    "- Start with a central idea\n",
    "\n",
    "- Radiate outwards\n",
    "\n",
    "- **Big BOLD letter** in the beginning. (main topics)\n",
    " - branch to sub-topics\n",
    "\n",
    "- Add <font color='red'>col</font> <font color='blue'>ors</font>  to each branch\n",
    "\n",
    "- Add images whereever possible\n",
    "\n",
    "- All branches have to be curved.\n",
    "\n",
    "## step by step working\n",
    "\n",
    "- Draw a big central topic\n",
    "\n",
    "- Branch out sub-topics\n",
    "\n",
    "- Color them\n",
    "\n",
    "- Curve them\n",
    "\n",
    "- Go to each topic and again branch out.\n",
    "\n",
    "- Add doodles and imagess\n",
    "\n",
    "- You will be uncomfortable at first. since the mind is getting used to it (from lists)\n",
    "\n",
    "- Then you will generate ideas that you thought was impossible.\n",
    "\n",
    "- Branches are THICK at the center and thins towards the edges\n",
    "\n",
    "- See below for visuals\n",
    "\n",
    "![](https://abhisheksreesaila.github.io/blog/images/general/mindmap-concepts.png)\n",
    "\n",
    "\n",
    "# Mind Map.  When?\n",
    "\n",
    "- Note taking\n",
    "\n",
    "- Brain storming. Infact its a perfect ideation tool as it does not restrict in a specific direction\n",
    "\n",
    "- Language Learning\n",
    "\n",
    "- Project Planning (shows all the inter-dependencies between various parties)\n",
    "\n",
    "- TODO LIST\n",
    "\n"
   ]
  },
  {
   "cell_type": "markdown",
   "metadata": {},
   "source": [
    "\n"
   ]
  },
  {
   "cell_type": "markdown",
   "metadata": {},
   "source": [
    "\n",
    "\n"
   ]
  }
 ],
 "metadata": {
  "kernelspec": {
   "display_name": "Python 3 (ipykernel)",
   "language": "python",
   "name": "python3"
  },
  "language_info": {
   "codemirror_mode": {
    "name": "ipython",
    "version": 3
   },
   "file_extension": ".py",
   "mimetype": "text/x-python",
   "name": "python",
   "nbconvert_exporter": "python",
   "pygments_lexer": "ipython3",
   "version": "3.9.5"
  }
 },
 "nbformat": 4,
 "nbformat_minor": 4
}
