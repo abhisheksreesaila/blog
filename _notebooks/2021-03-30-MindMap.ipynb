{
 "cells": [
  {
   "cell_type": "markdown",
   "metadata": {},
   "source": [
    "# \"how to take notes?\"\n",
    "\n",
    "> \"Express yourselves. Become hyper-creative and productive\"\n",
    "\n",
    "- toc: true\n",
    "- branch: master\n",
    "- badges: false\n",
    "- comments: true\n",
    "- categories: [Productivity]\n",
    "- hide: false\n",
    "- search_exclude: false\n",
    "- image: images/post-thumbnails/notes.jpeg\n",
    "- metadata_key1: Productivity\n",
    "- metadata_key2: "
   ]
  },
  {
   "cell_type": "markdown",
   "metadata": {},
   "source": [
    "# Mind Map.  Why?\n",
    "\n",
    "If you take a cross section of the brain, its looks like interconnected wires. If you model your outside world, like the internal, then its \"natural\" and promotes better creation of new ideas. If your force yourself to be \"neat\" then there is friction or what is commonly known as the \"writers block\"\n",
    "\n",
    "\n",
    "\n",
    "\n",
    "# Mind Map.  How?\n",
    "\n",
    "\n",
    "\n",
    "# Mind Map.  When?\n",
    "\n",
    "\n"
   ]
  },
  {
   "cell_type": "markdown",
   "metadata": {},
   "source": [
    "\n"
   ]
  },
  {
   "cell_type": "markdown",
   "metadata": {},
   "source": [
    "\n"
   ]
  },
  {
   "cell_type": "markdown",
   "metadata": {},
   "source": [
    "\n",
    "\n"
   ]
  }
 ],
 "metadata": {
  "kernelspec": {
   "display_name": "Python 3",
   "language": "python",
   "name": "python3"
  },
  "language_info": {
   "codemirror_mode": {
    "name": "ipython",
    "version": 3
   },
   "file_extension": ".py",
   "mimetype": "text/x-python",
   "name": "python",
   "nbconvert_exporter": "python",
   "pygments_lexer": "ipython3",
   "version": "3.7.6"
  }
 },
 "nbformat": 4,
 "nbformat_minor": 4
}
