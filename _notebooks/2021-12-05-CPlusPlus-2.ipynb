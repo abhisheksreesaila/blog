{
 "cells": [
  {
   "cell_type": "markdown",
   "metadata": {},
   "source": [
    "# \"C++ Basics\"\n",
    "\n",
    "> \"Exploring C++ (contd)\"\n",
    "\n",
    "- toc: true\n",
    "- branch: master\n",
    "- badges: false\n",
    "- comments: true\n",
    "- categories: [Programming Languages]\n",
    "- hide: false\n",
    "- search_exclude: false\n",
    "- image: images/post-thumbnails/cplusplus.png\n",
    "- metadata_key1: c++\n",
    "- metadata_key2:"
   ]
  },
  {
   "cell_type": "markdown",
   "metadata": {},
   "source": [
    "\n",
    "\n"
   ]
  },
  {
   "cell_type": "markdown",
   "metadata": {},
   "source": [
    "# Purpose\n",
    "\n",
    "Continuing to explore the most popular and confusing concepts in C++ : Pointers and Iterators\n"
   ]
  },
  {
   "cell_type": "markdown",
   "metadata": {},
   "source": [
    "\n",
    "# Pointers\n",
    "\n",
    "\n",
    "```c++\n",
    "\n",
    "#include <iostream>\n",
    "using namespace std;\n",
    "\n",
    "int g_value = 42;\n",
    "\n",
    "void CallFunc(int*& p)\n",
    "\n",
    "{\n",
    "\n",
    "    cout << \"p value inside the func\" << p << endl;\n",
    "    p = &g_value;\n",
    "\n",
    "}\n",
    "\n",
    "int main ()\n",
    "\n",
    "{\n",
    "\n",
    "    int l_value = 23;\n",
    "    int** y; \n",
    "    std::cout << \" l_value  = \" << l_value << std::endl;\n",
    "    std::cout << \" l_value addr value = \" << &l_value  << std::endl;\n",
    "    int *p;\n",
    "    p = &l_value;\n",
    "    y=&p; \n",
    "    std::cout << \" p value = \" << p  << std::endl ;\n",
    "    std::cout << \" p pointer value = \" << *p  << std::endl; \n",
    "    std::cout << \" y value = \" << y  << std::endl ;\n",
    "    std::cout << \" y pointer value = \" << *y  << std::endl; \n",
    "    CallFunc(p);\n",
    "    std::cout << \" After \" << std::endl;\n",
    "    std::cout << \" p value = \" << *p   << std::endl;\n",
    "    std::cout << \" p addr value = \" << p  << std::endl;\n",
    "\n",
    "}\n",
    "\n",
    "```\n",
    "---------------------------------------\n",
    "\n",
    "# Iterators\n",
    "\n",
    "```c++\n",
    "\n",
    "#include <iostream>\n",
    "#include <vector>\n",
    "#include <iterator>\n",
    "\n",
    "using namespace std;\n",
    "\n",
    "int main ()\n",
    "{\n",
    "\n",
    "\n",
    "vector<int> myvect = {0,1,2,3,4,5}; \n",
    "vector<int> myvect2 = {10,20}; \n",
    "\n",
    "vector<int>::iterator ptr;  // its a generic pointer which moves to a location\n",
    "//since its pointer to vector<int>  add that namespace to indicate\n",
    "\n",
    "cout << \" the elements in the vector are\" ;\n",
    "\n",
    "for (ptr = myvect.begin(); ptr < myvect.end(); ptr++)\n",
    "   cout << *ptr << \" \"; \n",
    "\n",
    "\n",
    "// its already pointing to last. will print garbage value\n",
    "advance(ptr, 3);\n",
    "cout << *ptr << \" \";   // deref the pointer to print the value\n",
    "\n",
    "// reset the pointer\n",
    "ptr = myvect.begin();\n",
    "advance(ptr, 3);  // zero indexed so 4th element\n",
    "cout << *ptr << \" \"; \n",
    "\n",
    "\n",
    "//prev and next\n",
    "ptr = myvect.begin();\n",
    "auto it = next(ptr, 3);  // returns a new iterator (does not move ptr)\n",
    "cout << *it << \" \"; \n",
    "\n",
    "ptr = myvect.end();  //reset to end or else prev wont work (obviously!)\n",
    "auto it2 = prev(ptr, 4);\n",
    "cout << *it2 << \" \"; \n",
    "\n",
    "\n",
    "\n",
    "\n",
    "//copy elements\n",
    "\n",
    "ptr = myvect.begin();\n",
    "advance(ptr, 3);  // move the pointer  to 3rd \n",
    "\n",
    "//copy FROM vect2 to vect from 3rd position\n",
    "copy(myvect2.begin(), myvect2.end(), inserter(myvect, ptr)); \n",
    "\n",
    "cout << \"this is new elem added\" ;\n",
    "\n",
    "\n",
    "// learn this\n",
    "for (int &x : myvect)\n",
    "cout << x << '\\n';\n",
    "\n",
    "\n",
    "for (int y : myvect2)  // range operator\n",
    "cout << y << \" \";\n",
    "\n",
    "return 0;\n",
    "\n",
    "\n",
    "}\n",
    "\n",
    "\n",
    "```\n"
   ]
  },
  {
   "cell_type": "markdown",
   "metadata": {},
   "source": [
    "\n",
    "\n"
   ]
  },
  {
   "cell_type": "markdown",
   "metadata": {},
   "source": [
    "\n"
   ]
  },
  {
   "cell_type": "markdown",
   "metadata": {},
   "source": [
    "\n"
   ]
  },
  {
   "cell_type": "markdown",
   "metadata": {},
   "source": [
    "\n",
    "\n"
   ]
  }
 ],
 "metadata": {
  "kernelspec": {
   "display_name": "Python 3 (ipykernel)",
   "language": "python",
   "name": "python3"
  },
  "language_info": {
   "codemirror_mode": {
    "name": "ipython",
    "version": 3
   },
   "file_extension": ".py",
   "mimetype": "text/x-python",
   "name": "python",
   "nbconvert_exporter": "python",
   "pygments_lexer": "ipython3",
   "version": "3.8.11"
  }
 },
 "nbformat": 4,
 "nbformat_minor": 4
}
