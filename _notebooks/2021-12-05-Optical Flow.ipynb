{
 "cells": [
  {
   "cell_type": "markdown",
   "metadata": {},
   "source": [
    "# \"Optical Flow\"\n",
    "\n",
    "> \"Learnings about Optical Flow\"\n",
    "\n",
    "- toc: true\n",
    "- branch: master\n",
    "- badges: false\n",
    "- comments: true\n",
    "- categories: [Computer Vision]\n",
    "- hide: false\n",
    "- search_exclude: false\n",
    "- image: images/post-thumbnails/of.png\n",
    "- metadata_key1: notes\n",
    "- metadata_key2: "
   ]
  },
  {
   "cell_type": "markdown",
   "metadata": {},
   "source": [
    "\n"
   ]
  },
  {
   "cell_type": "markdown",
   "metadata": {},
   "source": [
    "# Purpose\n",
    "\n",
    "Understand the motion of objects in consecutive images\n",
    "\n",
    "It is impossible to detect motion in 2 consecutive motion images (also called the motion field) but it is possible to know the variation in gradients (Called optical flow)\n",
    "\n",
    "\n",
    "# What is a feature in an image?\n",
    "\n",
    "Features : things that will help us identify the image.  The best features are the ones where by looking at them once you are able to detect the image. Sometime 1 feature is not sufficient and you need to collection of them, each of them helping you identify the image.\n",
    "\n",
    "\n",
    "\n",
    "Look at the following image.  If you pick a patch in the background, it does not tell anything about the image. infact, we can collect hundreds of them and still no use. Lets try something in the middle of the image. again, even If i give you hundreds of them surrounding it, it does not identify the image. Now, lets pick a corner of the image.  IF you closely observe, there can be only 1 corner of that type.  We can pick different corner all of which are unique and help you identify the image.  Hence, you can consider, CORNER make a good collection of features. As such from the early days of computer vision, many algorithms were developed to detect \"corners\" of the image just because they are good features. \n",
    "\n",
    "\n",
    "## Why do we need features?\n",
    "\n",
    " NEarly all computer vision algorithms in any domain dont just consume the image as a whole and produce an output. They are always preceeded by \"feature extraction\" and only then peforms their calculation.  (In the world of machine learning, CNN layers are the feature extractors)\n",
    "\n",
    "\n",
    "## What is a feature descriptors?\n",
    "\n",
    "After\n",
    "\n",
    "\n",
    "## Use OpenCV to detect features and feature description\n",
    "\n",
    "\n"
   ]
  },
  {
   "cell_type": "markdown",
   "metadata": {},
   "source": [
    "\n",
    "\n"
   ]
  }
 ],
 "metadata": {
  "kernelspec": {
   "display_name": "Python 3 (ipykernel)",
   "language": "python",
   "name": "python3"
  },
  "language_info": {
   "codemirror_mode": {
    "name": "ipython",
    "version": 3
   },
   "file_extension": ".py",
   "mimetype": "text/x-python",
   "name": "python",
   "nbconvert_exporter": "python",
   "pygments_lexer": "ipython3",
   "version": "3.7.6"
  }
 },
 "nbformat": 4,
 "nbformat_minor": 4
}
