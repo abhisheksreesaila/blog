{
 "cells": [
  {
   "cell_type": "markdown",
   "metadata": {},
   "source": [
    "# \"fastcore Learnings\"\n",
    "\n",
    "> \"fastcore concepts\"\n",
    "\n",
    "- toc: true\n",
    "- branch: master\n",
    "- badges: false\n",
    "- comments: true\n",
    "- categories: [Machine Learning]\n",
    "- hide: false\n",
    "- search_exclude: false\n",
    "- image: images/post-thumbnails/fastai.png\n",
    "- metadata_key1: notes\n",
    "- metadata_key2: "
   ]
  },
  {
   "cell_type": "markdown",
   "metadata": {},
   "source": [
    "The purpose is to learn few snippets from FASTCORE so that we can improve our daily python skills and understand fastai better\n"
   ]
  },
  {
   "cell_type": "markdown",
   "metadata": {},
   "source": [
    "```python\n",
    "\n",
    "from fastcore.all import * \n",
    "from nbdev.showdoc import *\n",
    "from fastcore.test import *\n",
    "from fastcore.nb_imports import *\n",
    "\n",
    "```"
   ]
  },
  {
   "cell_type": "markdown",
   "metadata": {},
   "source": [
    "\n"
   ]
  },
  {
   "cell_type": "markdown",
   "metadata": {},
   "source": [
    "# Store attributes of a class easily"
   ]
  },
  {
   "cell_type": "markdown",
   "metadata": {},
   "source": [
    "\n",
    "```python\n",
    "################################ normal #############################################\n",
    "\n",
    "class something:\n",
    "    def __init__(self,a,b,c):\n",
    "        self.a = a\n",
    "        self.b = b\n",
    "        self.c = c\n",
    "    \n",
    "x = something(2,3,4)\n",
    "\n",
    "print(x.a)\n",
    "print(x.b)\n",
    "print(x.c)\n",
    "\n",
    "#output : 2 3 4\n",
    "\n",
    "```"
   ]
  },
  {
   "cell_type": "markdown",
   "metadata": {},
   "source": [
    "\n",
    "```python\n",
    "\n",
    "################################ using fastcore ##############################\n",
    "\n",
    "class something:\n",
    "    def __init__(self,a,b,c):\n",
    "        store_attr()     #<--------\n",
    "    \n",
    "x = something(2,3,4)\n",
    "\n",
    "print(x.a)\n",
    "print(x.b)\n",
    "print(x.c)\n",
    "\n",
    "#output : 2 3 4\n",
    "\n",
    "```"
   ]
  },
  {
   "cell_type": "markdown",
   "metadata": {},
   "source": [
    "# Avoid boiler plate during Inheritance"
   ]
  },
  {
   "cell_type": "markdown",
   "metadata": {},
   "source": [
    "\n",
    "```python\n",
    "\n",
    "################################ normal ############################################################\n",
    "\n",
    "class parent:\n",
    "    def __init__(self):\n",
    "         self.message = \"I am from parent class\"\n",
    "            \n",
    "class child(parent):\n",
    "    def __init__(self, e,f,g):\n",
    "        store_attr()\n",
    "        super().__init__()   #<--- need this to init parent class\n",
    "    \n",
    "cc = child(2,3,4)\n",
    "\n",
    "print(cc.message)\n",
    "#output : I am from parent class\n",
    "\n",
    "############################## using fastcore #############################################\n",
    "\n",
    "\n",
    "# Creating a wrapper to the parent. call it BetterParent :) \"\n",
    "\n",
    "\n",
    "class BetterParent(parent, metaclass=PrePostInitMeta):  #<--- inherits both Parent + metaclass = PrePostInitMeta\n",
    "    def __pre_init__(self, *args, **kargs):  \n",
    "        \n",
    "          # PrePostInitMeta has \"pre\", \"post\" init methods. \n",
    "          # It creates the \"Parent\" everytime it is invoked by any child\n",
    "        super().__init__() \n",
    "        \n",
    "class child2(BetterParent):\n",
    "    def __init__(self): pass  #<--- Just child init. BetterParent runs pre-init and creates parent.\n",
    "    \n",
    "class child3(BetterParent):\n",
    "    def __init__(self): pass  #<--- Just child init. no parent class init ever again!\n",
    "    \n",
    "cc2 = child2()\n",
    "cc3 = child3()\n",
    "print(cc3.message)\n",
    "\n",
    "#output : I am from parent class\n",
    "\n",
    "# use cases :  1 to many relationships can be easily created with much boiler plate with this code\n",
    "\n",
    "```"
   ]
  },
  {
   "cell_type": "markdown",
   "metadata": {},
   "source": [
    "# Alternative to lambda"
   ]
  },
  {
   "cell_type": "markdown",
   "metadata": {},
   "source": [
    "\n",
    "```python\n",
    "\n",
    "import numpy as np\n",
    "\n",
    "arr = np.array([1,2,3,4,5])\n",
    "\n",
    "y = lambda x : x.sum() \n",
    "\n",
    "y(arr) \n",
    "\n",
    "#output : 15\n",
    "\n",
    "```"
   ]
  },
  {
   "cell_type": "markdown",
   "metadata": {},
   "source": [
    "\n",
    "```python\n",
    "\n",
    "import numpy as np\n",
    "\n",
    "arr = np.array([1,2,3,4,5])\n",
    "\n",
    "y = Self.sum()  #<--- notice capital \"S\" (instead of s). Avoids lambda x: x\n",
    "\n",
    "y(arr) \n",
    "\n",
    "#output : 15\n",
    "\n",
    "```"
   ]
  },
  {
   "cell_type": "markdown",
   "metadata": {},
   "source": [
    "# Transforms"
   ]
  },
  {
   "cell_type": "markdown",
   "metadata": {},
   "source": [
    "```python\n",
    "\n",
    "class A(Transform):                      #<---- pass the class\n",
    "    def encodes(self, x): return x+100   #<---- implements the encode func\n",
    "    def decodes(self, x) : return x-100  #<---- implements the decode func\n",
    "\n",
    "\n",
    "f=A()\n",
    "f(1)  \n",
    "#output : 101\n",
    "\n",
    "f.decode(1)  # without the \"s\"\n",
    "#output : -99\n",
    "\n",
    "    \n",
    "#convert any func into a transform using the decorator. adds implementation to the encodes func. \n",
    "@Transform\n",
    "def specialfunction(x): return x+100\n",
    "\n",
    "specialfunction(100)   # same as  specialfunction.encode(100)\n",
    "specialfunction.decode(100)   # decode not implemented. just returns input\n",
    "#output : 100\n",
    "    \n",
    "```"
   ]
  },
  {
   "cell_type": "markdown",
   "metadata": {},
   "source": [
    "# Pipeline"
   ]
  },
  {
   "cell_type": "markdown",
   "metadata": {},
   "source": [
    "Executing transforms in a certain order.  It can take a normal function and make it transform internally. see below"
   ]
  },
  {
   "cell_type": "markdown",
   "metadata": {},
   "source": [
    "```python\n",
    "\n",
    "def add2(x) : return x+2\n",
    "\n",
    "def mul100(y): return y*100\n",
    "\n",
    "pipe = Pipeline([add2, mul100])\n",
    "\n",
    "pipe(1)  #. (1+2) * 300 = 300\n",
    "\n",
    "#output : 300\n",
    "\n",
    "\n",
    "# create a transform, add to pipeline\n",
    "\n",
    "class addsomemore(Transform):\n",
    "    order =-1   #<---- decreased the order by 1. in the below examples it shift from 3rd to 2nd position\n",
    "    def encodes(self,x): return x +1000\n",
    "    def decodes(self,y): return y -1000\n",
    "\n",
    "adds = addsomemore()\n",
    "\n",
    "pipe = Pipeline([add2, mul100, adds])\n",
    "\n",
    "pipe(1)  #. (1+2) * 300 + 1000 = 1300!\n",
    "\n",
    "##uncomment \"order\" and run.  Result : (1+2) |||| + 1000 = 1003||| * 1000 = 100300\n",
    "\n",
    "#output : 100300\n",
    "\n",
    "```"
   ]
  },
  {
   "cell_type": "markdown",
   "metadata": {},
   "source": [
    "# Better Partial functions"
   ]
  },
  {
   "cell_type": "markdown",
   "metadata": {},
   "source": [
    "```python\n",
    "\n",
    "# normal\n",
    "\n",
    "def func100(x, y):\n",
    "    '''this is func100'''\n",
    "    return x + y\n",
    "\n",
    "func100.__doc__\n",
    "\n",
    "#output 'this is func100'\n",
    "\n",
    "#------------------------------\n",
    "\n",
    "add2sonly = partial(func100, 2)\n",
    "\n",
    "add2sonly(4)  # 6\n",
    "add2sonly(10) # 12\n",
    "\n",
    "add2sonly.__doc__\n",
    "\n",
    "\n",
    "#output 'partial(func, *args, **keywords) - new function with partial application\\n    of the given arguments and keywords.\\n'\n",
    "\n",
    "#lost the doc string :(\n",
    "\n",
    "#------------------------------\n",
    "\n",
    "# fastcore\n",
    "\n",
    "def func100(x, y):\n",
    "    '''this is func100'''\n",
    "    return x + y\n",
    "\n",
    "add2sonly = partialler(func100, 2)  # partialler  (and not partial)\n",
    "\n",
    "add2sonly(4)  # 6\n",
    "add2sonly(10) # 12\n",
    "\n",
    "add2sonly.__doc__  #<----- still has the doc string :)\n",
    "\n",
    "#output 'this is func100'\n",
    "\n",
    "#------------------------------\n",
    "\n",
    "```"
   ]
  },
  {
   "cell_type": "markdown",
   "metadata": {},
   "source": [
    "# Monkey Patch-ing"
   ]
  },
  {
   "cell_type": "markdown",
   "metadata": {},
   "source": [
    "```python\n",
    "################################### normal #################################\n",
    "\n",
    "class A: \n",
    "    def somefunc(self):\n",
    "            print(\"hello this is somefunc\")\n",
    "\n",
    "def mk_patch_func(self):\n",
    "           print(\"monkey patch\")   \n",
    "        \n",
    "A.somfunc = mk_patch_func   # replace the add of somfunc with mk_patch_func\n",
    "obj = A()\n",
    "obj.somfunc()  #<---- calls monkey patch function (and not somefunc)\n",
    "\n",
    "#output : monkey patch\n",
    "\n",
    "################################# fastcore #################################\n",
    "\n",
    "\n",
    "class B: \n",
    "    def funcb(self):\n",
    "            print(\"hello this is somefunc\")\n",
    "\n",
    "            \n",
    "@patch                        #<---- decorator\n",
    "def funcb(self:B):            #<---- pass the class name\n",
    "           print(\"monkey patch\")   \n",
    "        \n",
    "\n",
    "obj1 = B()\n",
    "obj1.funcb()  #<---- calls monkey patch function (and not somefunc)\n",
    "\n",
    "\n",
    "#output : monkey patch\n",
    "\n",
    "```"
   ]
  },
  {
   "cell_type": "markdown",
   "metadata": {},
   "source": [
    "## Type Dispatch\n",
    "\n",
    "By def, When you have multiple implementation of the same function name, depending on the input, appropriate func is called. fastcore enables it for python\n"
   ]
  },
  {
   "cell_type": "markdown",
   "metadata": {},
   "source": [
    "\n",
    "```python\n",
    "\n",
    "@typedispatch                        #<--- add this decorator\n",
    "def callme(x, y:int):  return x+y\n",
    "\n",
    "@typedispatch                       #<--- add this decorator\n",
    "def callme(x, y:str): return f\"{x} {y}\"\n",
    "\n",
    "\n",
    "callme(1,2)\n",
    "\n",
    "#output : 3\n",
    "\n",
    "callme(\"hello\", \"world\")\n",
    "\n",
    "#output : 'hello world'\n",
    "\n",
    "\n",
    "```"
   ]
  },
  {
   "cell_type": "markdown",
   "metadata": {},
   "source": [
    "References\n",
    "\n",
    "[Blog post](https://www.kdnuggets.com/2020/10/fastcore-underrated-python-library.html)\n",
    "\n",
    "[fastcore lib](https://fastcore.fast.ai)"
   ]
  },
  {
   "cell_type": "markdown",
   "metadata": {},
   "source": [
    "\n"
   ]
  },
  {
   "cell_type": "markdown",
   "metadata": {},
   "source": [
    "\n"
   ]
  },
  {
   "cell_type": "markdown",
   "metadata": {},
   "source": [
    "\n",
    "\n"
   ]
  }
 ],
 "metadata": {
  "kernelspec": {
   "display_name": "Python 3",
   "language": "python",
   "name": "python3"
  },
  "language_info": {
   "codemirror_mode": {
    "name": "ipython",
    "version": 3
   },
   "file_extension": ".py",
   "mimetype": "text/x-python",
   "name": "python",
   "nbconvert_exporter": "python",
   "pygments_lexer": "ipython3",
   "version": "3.7.6"
  }
 },
 "nbformat": 4,
 "nbformat_minor": 4
}
