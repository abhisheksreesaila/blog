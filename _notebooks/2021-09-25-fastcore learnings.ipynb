{
 "cells": [
  {
   "cell_type": "markdown",
   "id": "d92d2cf4",
   "metadata": {},
   "source": [
    "# \"fastcore Learnings\"\n",
    "\n",
    "> \"Useful fastcore utils\"\n",
    "\n",
    "- toc: true\n",
    "- branch: master\n",
    "- badges: false\n",
    "- comments: true\n",
    "- categories: [fastai]\n",
    "- hide: false\n",
    "- search_exclude: false\n",
    "- image: images/post-thumbnails/ml.png\n",
    "- metadata_key1: \n",
    "- metadata_key2:"
   ]
  },
  {
   "cell_type": "markdown",
   "id": "4c33cae1",
   "metadata": {},
   "source": [
    "The purpose is to learn few snippets from FASTCORE so that we can improve our daily python skills and understand fastai better\n"
   ]
  },
  {
   "cell_type": "code",
   "execution_count": 1,
   "id": "91c86009",
   "metadata": {},
   "outputs": [],
   "source": [
    "from fastcore.all import * \n",
    "from nbdev.showdoc import *\n",
    "from fastcore.test import *\n",
    "from fastcore.nb_imports import *"
   ]
  },
  {
   "cell_type": "markdown",
   "id": "88975a4d",
   "metadata": {},
   "source": [
    "# Store attributes of a class easily"
   ]
  },
  {
   "cell_type": "code",
   "execution_count": 5,
   "id": "05d1db91",
   "metadata": {},
   "outputs": [
    {
     "name": "stdout",
     "output_type": "stream",
     "text": [
      "2\n",
      "3\n",
      "4\n"
     ]
    }
   ],
   "source": [
    "\n",
    "## normal\n",
    "\n",
    "class something:\n",
    "    def __init__(self,a,b,c):\n",
    "        self.a = a\n",
    "        self.b = b\n",
    "        self.c = c\n",
    "    \n",
    "x = something(2,3,4)\n",
    "\n",
    "print(x.a)\n",
    "print(x.b)\n",
    "print(x.c)\n"
   ]
  },
  {
   "cell_type": "code",
   "execution_count": 3,
   "id": "70321fe2",
   "metadata": {},
   "outputs": [
    {
     "name": "stdout",
     "output_type": "stream",
     "text": [
      "2\n",
      "3\n",
      "4\n"
     ]
    }
   ],
   "source": [
    "## using fastcore\n",
    "\n",
    "class something:\n",
    "    def __init__(self,a,b,c):\n",
    "        store_attr()     #<--------\n",
    "    \n",
    "x = something(2,3,4)\n",
    "\n",
    "print(x.a)\n",
    "print(x.b)\n",
    "print(x.c)"
   ]
  },
  {
   "cell_type": "markdown",
   "id": "c676a96f",
   "metadata": {},
   "source": [
    "# Avoid boiler plate during Inheritance"
   ]
  },
  {
   "cell_type": "code",
   "execution_count": 8,
   "id": "6c44137c",
   "metadata": {},
   "outputs": [
    {
     "name": "stdout",
     "output_type": "stream",
     "text": [
      "I am from parent class\n"
     ]
    }
   ],
   "source": [
    "\n",
    "## normal\n",
    "\n",
    "class parent:\n",
    "    def __init__(self):\n",
    "         self.message = \"I am from parent class\"\n",
    "            \n",
    "class child(parent):\n",
    "    def __init__(self, e,f,g):\n",
    "        store_attr()\n",
    "        super().__init__()   #<--- need this to init parent class\n",
    "    \n",
    "cc = child(2,3,4)\n",
    "\n",
    "\n",
    "## using fastcore\n",
    "\n",
    "\n",
    "# Creating a wrapper to the parent. call it BetterParent :) \"\n",
    "\n",
    "\n",
    "class BetterParent(parent, metaclass=PrePostInitMeta):  #<--- inherits both Parent + metaclass = PrePostInitMeta\n",
    "    def __pre_init__(self, *args, **kargs):  \n",
    "        \n",
    "          # PrePostInitMeta has \"pre\", \"post\" init methods. \n",
    "          # It creates the \"Parent\" everytime it is invoked by any child\n",
    "        super().__init__() \n",
    "        \n",
    "class child2(BetterParent):\n",
    "    def __init__(self): pass  #<--- Just child init. BetterParent runs pre-init and creates parent.\n",
    "    \n",
    "class child3(BetterParent):\n",
    "    def __init__(self): pass  #<--- Just child init. no parent class init ever again!\n",
    "    \n",
    "cc2 = child2()\n",
    "\n",
    "\n",
    "cc3 = child3()\n",
    "\n",
    "print(cc3.message)\n",
    "\n",
    "# use cases :  1 to many relationships can be easily creted with much boiler plate with this code\n"
   ]
  },
  {
   "cell_type": "markdown",
   "id": "cdac7594",
   "metadata": {},
   "source": [
    "# Alternative to lambda"
   ]
  },
  {
   "cell_type": "code",
   "execution_count": 9,
   "id": "77b5f25a",
   "metadata": {},
   "outputs": [
    {
     "data": {
      "text/plain": [
       "15"
      ]
     },
     "execution_count": 9,
     "metadata": {},
     "output_type": "execute_result"
    }
   ],
   "source": [
    "\n",
    "import numpy as np\n",
    "\n",
    "arr = np.array([1,2,3,4,5])\n",
    "\n",
    "y = lambda x : x.sum() \n",
    "\n",
    "y(arr)\n"
   ]
  },
  {
   "cell_type": "code",
   "execution_count": 10,
   "id": "65d650c4",
   "metadata": {},
   "outputs": [
    {
     "data": {
      "text/plain": [
       "15"
      ]
     },
     "execution_count": 10,
     "metadata": {},
     "output_type": "execute_result"
    }
   ],
   "source": [
    "import numpy as np\n",
    "\n",
    "arr = np.array([1,2,3,4,5])\n",
    "\n",
    "y = Self.sum()  #<--- notice capital \"S\" (instead of s). Avoids lambda x: x\n",
    "\n",
    "y(arr)"
   ]
  },
  {
   "cell_type": "markdown",
   "id": "1761d457",
   "metadata": {},
   "source": [
    "# Transforms"
   ]
  },
  {
   "cell_type": "code",
   "execution_count": 98,
   "id": "8d85dc36",
   "metadata": {},
   "outputs": [
    {
     "data": {
      "text/plain": [
       "101"
      ]
     },
     "execution_count": 98,
     "metadata": {},
     "output_type": "execute_result"
    }
   ],
   "source": [
    "class A(Transform):                      #<---- pass the class\n",
    "    def encodes(self, x): return x+100   #<---- implements the encode func\n",
    "    def decodes(self, x) : return x-100  #<---- implements the decode func\n",
    "\n",
    "\n",
    "f=A()\n",
    "f(1)"
   ]
  },
  {
   "cell_type": "code",
   "execution_count": 99,
   "id": "d51dbd7d",
   "metadata": {},
   "outputs": [
    {
     "data": {
      "text/plain": [
       "-99"
      ]
     },
     "execution_count": 99,
     "metadata": {},
     "output_type": "execute_result"
    }
   ],
   "source": [
    "f.decode(1)  # without the \"s\""
   ]
  },
  {
   "cell_type": "code",
   "execution_count": 107,
   "id": "f3544d19",
   "metadata": {},
   "outputs": [
    {
     "data": {
      "text/plain": [
       "100"
      ]
     },
     "execution_count": 107,
     "metadata": {},
     "output_type": "execute_result"
    }
   ],
   "source": [
    " #convert any func into a transform using the decorator. adds implementation to the encodes func. \n",
    "@Transform\n",
    "def specialfunction(x): return x+100\n",
    "\n",
    "specialfunction(100)   # same as  specialfunction.encode(100)\n",
    "specialfunction.decode(100)   # decode not implemented. just returns input"
   ]
  },
  {
   "cell_type": "markdown",
   "id": "e97bfdf3",
   "metadata": {},
   "source": [
    "# Pipeline"
   ]
  },
  {
   "cell_type": "markdown",
   "id": "e276b84e",
   "metadata": {},
   "source": [
    "Executing transforms in a certain order.  It can take a normal function and make it transform internally. see below"
   ]
  },
  {
   "cell_type": "code",
   "execution_count": 100,
   "id": "3461bf8c",
   "metadata": {},
   "outputs": [
    {
     "data": {
      "text/plain": [
       "300"
      ]
     },
     "execution_count": 100,
     "metadata": {},
     "output_type": "execute_result"
    }
   ],
   "source": [
    "def add2(x) : return x+2\n",
    "\n",
    "def mul100(y): return y*100\n",
    "\n",
    "pipe = Pipeline([add2, mul100])\n",
    "\n",
    "pipe(1)  #. (1+2) * 300 = 300"
   ]
  },
  {
   "cell_type": "code",
   "execution_count": 105,
   "id": "e2cbf581",
   "metadata": {},
   "outputs": [
    {
     "data": {
      "text/plain": [
       "100300"
      ]
     },
     "execution_count": 105,
     "metadata": {},
     "output_type": "execute_result"
    }
   ],
   "source": [
    "# create a transform, add to pipeline\n",
    "\n",
    "class addsomemore(Transform):\n",
    "    order =-1   #<---- decreased the order by 1. in the below examples it shift from 3rd to 2nd position\n",
    "    def encodes(self,x): return x +1000\n",
    "    def decodes(self,y): return y -1000\n",
    "\n",
    "adds = addsomemore()\n",
    "\n",
    "pipe = Pipeline([add2, mul100, adds])\n",
    "\n",
    "pipe(1)  #. (1+2) * 300 + 1000 = 1300!\n",
    "\n",
    "##uncomment \"order\" and run.  Result : (1+2) |||| + 1000 = 1003||| * 1000 = 100300\n"
   ]
  },
  {
   "cell_type": "markdown",
   "id": "a0642cc7",
   "metadata": {},
   "source": [
    "# Better Partial functions"
   ]
  },
  {
   "cell_type": "code",
   "execution_count": 91,
   "id": "be683ab9",
   "metadata": {},
   "outputs": [
    {
     "data": {
      "text/plain": [
       "'this is func100'"
      ]
     },
     "execution_count": 91,
     "metadata": {},
     "output_type": "execute_result"
    }
   ],
   "source": [
    "\n",
    "# normal\n",
    "\n",
    "def func100(x, y):\n",
    "    '''this is func100'''\n",
    "    return x + y\n",
    "\n",
    "func100.__doc__\n"
   ]
  },
  {
   "cell_type": "code",
   "execution_count": 106,
   "id": "2bd17b22",
   "metadata": {},
   "outputs": [
    {
     "data": {
      "text/plain": [
       "'partial(func, *args, **keywords) - new function with partial application\\n    of the given arguments and keywords.\\n'"
      ]
     },
     "execution_count": 106,
     "metadata": {},
     "output_type": "execute_result"
    }
   ],
   "source": [
    "add2sonly = partial(func100, 2)\n",
    "\n",
    "add2sonly(4)  # 6\n",
    "add2sonly(10) # 12\n",
    "\n",
    "add2sonly.__doc__\n",
    "\n",
    "#lost the doc string :( "
   ]
  },
  {
   "cell_type": "code",
   "execution_count": 94,
   "id": "4431b4e1",
   "metadata": {},
   "outputs": [
    {
     "data": {
      "text/plain": [
       "'this is func100'"
      ]
     },
     "execution_count": 94,
     "metadata": {},
     "output_type": "execute_result"
    }
   ],
   "source": [
    "# fastcore\n",
    "\n",
    "def func100(x, y):\n",
    "    '''this is func100'''\n",
    "    return x + y\n",
    "\n",
    "add2sonly = partialler(func100, 2)  # partialler  (and not partial)\n",
    "\n",
    "add2sonly(4)  # 6\n",
    "add2sonly(10) # 12\n",
    "\n",
    "add2sonly.__doc__  #<----- still has the doc string :)\n"
   ]
  },
  {
   "cell_type": "markdown",
   "id": "c38ad18b",
   "metadata": {},
   "source": [
    "# Monkey Patch-ing"
   ]
  },
  {
   "cell_type": "code",
   "execution_count": 64,
   "id": "40c29b0f",
   "metadata": {},
   "outputs": [
    {
     "name": "stdout",
     "output_type": "stream",
     "text": [
      "monkey patch\n"
     ]
    }
   ],
   "source": [
    "\n",
    "##normal\n",
    "\n",
    "class A: \n",
    "    def somefunc(self):\n",
    "            print(\"hello this is somefunc\")\n",
    "\n",
    "def mk_patch_func(self):\n",
    "           print(\"monkey patch\")   \n",
    "        \n",
    "A.somfunc = mk_patch_func   # replace the add of somfunc with mk_patch_func\n",
    "obj = A()\n",
    "obj.somfunc()  #<---- calls monkey patch function (and not somefunc)"
   ]
  },
  {
   "cell_type": "code",
   "execution_count": 69,
   "id": "ec594b6e",
   "metadata": {},
   "outputs": [
    {
     "name": "stdout",
     "output_type": "stream",
     "text": [
      "monkey patch\n"
     ]
    }
   ],
   "source": [
    "## fastcore\n",
    "\n",
    "\n",
    "class B: \n",
    "    def funcb(self):\n",
    "            print(\"hello this is somefunc\")\n",
    "\n",
    "            \n",
    "@patch                        #<---- decorator\n",
    "def funcb(self:B):            #<---- pass the class name\n",
    "           print(\"monkey patch\")   \n",
    "        \n",
    "\n",
    "obj1 = B()\n",
    "obj1.funcb()  #<---- calls monkey patch function (and not somefunc)\n"
   ]
  },
  {
   "cell_type": "markdown",
   "id": "93ee3f6a",
   "metadata": {},
   "source": [
    "## Type Dispatch\n",
    "\n",
    "By def, When you have multiple implementation of the same function name, depending on the input, appropriate func is called. fastcore enables it for python\n"
   ]
  },
  {
   "cell_type": "code",
   "execution_count": 147,
   "id": "5286ed3f",
   "metadata": {},
   "outputs": [
    {
     "data": {
      "text/plain": [
       "3"
      ]
     },
     "execution_count": 147,
     "metadata": {},
     "output_type": "execute_result"
    }
   ],
   "source": [
    "\n",
    "@typedispatch                        #<--- add this decorator\n",
    "def callme(x, y:int):  return x+y\n",
    "\n",
    "@typedispatch                       #<--- add this decorator\n",
    "def callme(x, y:str): return f\"{x} {y}\"\n",
    "\n",
    "\n",
    "callme(1,2)\n"
   ]
  },
  {
   "cell_type": "code",
   "execution_count": 148,
   "id": "1f7650f6",
   "metadata": {},
   "outputs": [
    {
     "data": {
      "text/plain": [
       "'hello world'"
      ]
     },
     "execution_count": 148,
     "metadata": {},
     "output_type": "execute_result"
    }
   ],
   "source": [
    "callme(\"hello\", \"world\")"
   ]
  },
  {
   "cell_type": "markdown",
   "id": "8f2086ec",
   "metadata": {},
   "source": [
    "References\n",
    "\n",
    "[Blog post](https://www.kdnuggets.com/2020/10/fastcore-underrated-python-library.html)\n",
    "\n",
    "[fastcore lib](https://fastcore.fast.ai)"
   ]
  }
 ],
 "metadata": {
  "kernelspec": {
   "display_name": "Python 3 (ipykernel)",
   "language": "python",
   "name": "python3"
  },
  "language_info": {
   "codemirror_mode": {
    "name": "ipython",
    "version": 3
   },
   "file_extension": ".py",
   "mimetype": "text/x-python",
   "name": "python",
   "nbconvert_exporter": "python",
   "pygments_lexer": "ipython3",
   "version": "3.8.11"
  }
 },
 "nbformat": 4,
 "nbformat_minor": 5
}
