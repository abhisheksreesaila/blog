{
 "cells": [
  {
   "cell_type": "markdown",
   "metadata": {},
   "source": [
    "# \"Wiring all the car parts together\"\n",
    "> \"Buckle up, Assembling the hardware now.\"\n",
    "- toc: true\n",
    "- branch: master\n",
    "- badges: false\n",
    "- comments: true\n",
    "- categories: [SelfDriving]\n",
    "- hide: false\n",
    "- search_exclude: false\n",
    "- image: images/post-thumbnails/Hardware_Config.png\n",
    "- metadata_key1: MUSHR\n",
    "- metadata_key2: "
   ]
  },
  {
   "cell_type": "markdown",
   "metadata": {},
   "source": [
    "# Purpose\n",
    "\n",
    "The intention of this page is NOT to replace the existing documentation by MUSHR. Please follow them [here](https://mushr.io), buit visit this page if things dont go as planned. I will highlight the sections that I ran into problems and solutions for them. This is **NOT** a TUTORIAL rather a buffet of practical problems faced and solutions provided to overcome them easily.\n",
    "\n",
    "![](https://abhisheksreesaila.github.io/blog/images/general/hw_process_flowchart.png \"Process Flow\")\n"
   ]
  },
  {
   "cell_type": "markdown",
   "metadata": {},
   "source": [
    "# Servo Motor Install Tips\n",
    "\n",
    "During the installation of the SERVO MOTOR, You need to remove the hex screws. BUT the hex screws are tough to remove and might end up messing up the screw head. This damage can be permananent and will prevent from removing the existing SERVO MOTOR!  In other words, the screws will SCREW you! and it did in my case.  See below.  To counter that, I had to remove the TOP parts (melt them, crack them etc.) and naturally the screws will open up at the bottom. This will take few hours to complete, since the screw heads was damaged there was any other way to remove screws. \n",
    "\n",
    "![](https://abhisheksreesaila.github.io/blog/images/mushr-build-pics/imperfections.png \"3D Imperfections\")"
   ]
  },
  {
   "cell_type": "markdown",
   "metadata": {},
   "source": [
    "## Weak 3D Printing Parts\n",
    "\n",
    "There could be 3D printing parts that are weak and break. No issues, just use the glue and put them back! \n",
    "\n",
    "![](https://abhisheksreesaila.github.io/blog/images/mushr-build-pics/hexscrews.png \"Hex Screws\")"
   ]
  },
  {
   "cell_type": "markdown",
   "metadata": {},
   "source": [
    "# Buck Converter Steps\n",
    "\n",
    "If you have a connector different than the MUSHR videos, then you might need to connect as shows to configure the buck converter\n",
    "\n",
    "![](https://abhisheksreesaila.github.io/blog/images/mushr-build-pics/buck-converter.png \"Buck Converter Steps\")\n"
   ]
  },
  {
   "cell_type": "markdown",
   "metadata": {},
   "source": [
    "# Push Button Install Tip\n",
    "\n",
    "Use the threads instead of screws. The screws didnt fit well to the back of the push button\n",
    "\n",
    "![](https://abhisheksreesaila.github.io/blog/images/mushr-build-pics/push-button.png \"Push Button Steps\")\n"
   ]
  },
  {
   "cell_type": "markdown",
   "metadata": {},
   "source": [
    "# Camera Install Screw Alternative\n",
    "\n",
    "This screw is provided as a part of BUCK CONVERTER\n",
    "\n",
    "![](https://abhisheksreesaila.github.io/blog/images/mushr-build-pics/camera-mount.png \"Camera Mount\")\n"
   ]
  },
  {
   "cell_type": "markdown",
   "metadata": {},
   "source": [
    "# Lower Platform Imperfections\n",
    "\n",
    "3D Imperfections are OK\n",
    "\n",
    "![](https://abhisheksreesaila.github.io/blog/images/mushr-build-pics/lower-platform.png \"Lower Platform\")\n"
   ]
  },
  {
   "cell_type": "markdown",
   "metadata": {},
   "source": [
    "# Upper Platform Trick\n",
    "\n",
    "Stick a tape to the nut and them remove it. This is useful to screws on the backside of the platform which might fall off.  \n",
    "\n",
    "![](https://abhisheksreesaila.github.io/blog/images/mushr-build-pics/upper-platform.png \"Upper Platform\")\n"
   ]
  },
  {
   "cell_type": "markdown",
   "metadata": {},
   "source": [
    "# Final Door Trick\n",
    "\n",
    "If you screw the final door, then you need to remove it again for charging the batteries (which is more often than you think). To solve the issue,\n",
    "use the VELCRO as shown\n",
    "\n",
    "![](https://abhisheksreesaila.github.io/blog/images/mushr-build-pics/velcro-door.png \"Velcro Door\")\n"
   ]
  },
  {
   "cell_type": "markdown",
   "metadata": {},
   "source": [
    "# Misc Hardware Pics\n",
    "\n",
    "![](https://abhisheksreesaila.github.io/blog/images/mushr-build-pics/misc-hardware.png \"Misc Hardware Pics\")\n"
   ]
  },
  {
   "cell_type": "markdown",
   "metadata": {},
   "source": [
    "\n"
   ]
  },
  {
   "cell_type": "markdown",
   "metadata": {},
   "source": [
    "\n",
    "\n"
   ]
  }
 ],
 "metadata": {
  "kernelspec": {
   "display_name": "Python 3",
   "language": "python",
   "name": "python3"
  },
  "language_info": {
   "codemirror_mode": {
    "name": "ipython",
    "version": 3
   },
   "file_extension": ".py",
   "mimetype": "text/x-python",
   "name": "python",
   "nbconvert_exporter": "python",
   "pygments_lexer": "ipython3",
   "version": "3.7.6"
  }
 },
 "nbformat": 4,
 "nbformat_minor": 4
}
