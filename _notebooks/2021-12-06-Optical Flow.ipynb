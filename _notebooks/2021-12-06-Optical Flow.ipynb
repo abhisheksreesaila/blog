{
 "cells": [
  {
   "cell_type": "markdown",
   "metadata": {},
   "source": [
    "# \"Optical Flow\"\n",
    "\n",
    "> \"Understand the concept of optical flow\"\n",
    "\n",
    "- toc: true\n",
    "- branch: master\n",
    "- badges: false\n",
    "- comments: true\n",
    "- categories: [Computer Vision]\n",
    "- hide: false\n",
    "- search_exclude: false\n",
    "- image: images/post-thumbnails/of.png\n",
    "- metadata_key1: notes\n",
    "- metadata_key2: "
   ]
  },
  {
   "cell_type": "markdown",
   "metadata": {},
   "source": [
    "\n"
   ]
  },
  {
   "cell_type": "markdown",
   "metadata": {},
   "source": [
    "In the previous blog post [here](https://ablearn.io/computer%20vision/2021/12/05/Image-Features-Understanding.html) we understand basics of \"features\" in an image. One of the most popular usecases for such tracking of features between 2 images would be detection motion of objects within the image.\n",
    "\n",
    "\n",
    "# Optical Flow vs Motion Field\n",
    "\n",
    "Let's try to understand the terms first. \n",
    "\n",
    "We take a object in the world (represented in the world coordinates) and project them onto a image plane. As the object moves in the world, we want to track it in the image plane.  This tracking is called *MOTION FIELD*\n",
    "\n",
    "It is not possible to directly measure motion field since all we have in the image are brightness patterns. \n",
    "\n",
    "Using the variation in brightness patterns between consecutives images can help you track the object(s). This is called *OPTICAL FLOW*. \n",
    "\n",
    "OPTICAL FLOW indicates MOTION of objects in most of the cases. But there could be images with \"illusions\" that changes brightness patterns but does not correspond to \"object movement\" in them\". For eg. see below. \n",
    "\n",
    "---\n",
    "The object is moving but there is no change in brightness pattern. So very hard to detect motion\n",
    "![](https://abhisheksreesaila.github.io/blog/images/stereo/op1.png \"Motion Field without Optical Flow\")\n",
    "\n",
    "\n",
    "Here the light source is moving and hence the brightness pattern is changing, but there is no motion. \n",
    "\n",
    "![](https://abhisheksreesaila.github.io/blog/images/stereo/mf1.png \"Optical Flow without Motion Field - start position\")\n",
    "\n",
    "![](https://abhisheksreesaila.github.io/blog/images/stereo/mf2.png \"Optical Flow without Motion Field - end position\")\n",
    "\n",
    "# Optical Flow Assumptions\n",
    "\n",
    "Before we attempt to compute the optical flow. Lets assume 2 things\n",
    "\n",
    "1. Brightness of a image point remains constant over time. Since we will be dealing with images taken in quick succession (in the order of milliseconds) this is a safe assumption. \n",
    "\n",
    "![](https://abhisheksreesaila.github.io/blog/images/stereo/opticalfloweq.png \"Object moving in an image\")\n",
    "\n",
    "Mathemtically written as \n",
    "\n",
    "> $I(x+ \\delta x, y+ \\delta y, t+ \\delta t) = I(x, y, t)$\n",
    "\n",
    "2. Displacement ($ \\delta x, \\delta y $) is very small\n",
    "\n",
    "\n",
    "\n",
    "# Optical Flow Estimation\n",
    "\n",
    "\n",
    "\n",
    "\n",
    "\n"
   ]
  },
  {
   "cell_type": "markdown",
   "metadata": {},
   "source": [
    "# References\n",
    "\n",
    "[Optical Flow Definition](https://www.youtube.com/watch?v=lnXFcmLB7sM&t=92s)"
   ]
  }
 ],
 "metadata": {
  "kernelspec": {
   "display_name": "Python 3 (ipykernel)",
   "language": "python",
   "name": "python3"
  },
  "language_info": {
   "codemirror_mode": {
    "name": "ipython",
    "version": 3
   },
   "file_extension": ".py",
   "mimetype": "text/x-python",
   "name": "python",
   "nbconvert_exporter": "python",
   "pygments_lexer": "ipython3",
   "version": "3.7.6"
  }
 },
 "nbformat": 4,
 "nbformat_minor": 4
}
