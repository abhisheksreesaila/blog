{
 "cells": [
  {
   "cell_type": "markdown",
   "metadata": {},
   "source": [
    "# \"Azure Notes For AZ-300 & AZ-301\"\n",
    "> \"Pass Az-300 and Az-301 with these mindmap notes\"\n",
    "- toc: true\n",
    "- branch: master\n",
    "- badges: false\n",
    "- comments: true\n",
    "- categories: [azure, solutions expert certification, az300, az301]\n",
    "- hide: false\n",
    "- search_exclude: false\n",
    "- image: images/post-thumbnails/AzNotes.png\n",
    "- metadata_key1: Azure\n",
    "- metadata_key2: Certification"
   ]
  },
  {
   "cell_type": "markdown",
   "metadata": {},
   "source": [
    "# Purpose\n",
    "\n",
    "These are the notes that I took when studying for AZ300, AZ301 certification. These are neither in the tradtional list format nor just a bunch of links pointing to Microsoft documentation. These are meant to be a quick cheatsheet or reference before the exam. This can also serve as a reference for general Azure questions as well (not necessarily for exam). I have provided them in image and PDF.  Choose which ever suits your need.\n",
    "\n",
    "\n",
    "# Why MindMap?\n",
    "\n",
    "\n",
    "While traditional list-based note taking works, mind map takes this to the next level by adding color, images and free flow format that is absent in lists. This has helped me refer the material easily since i can glance all-at-once quickly, or go to a section without hunting and pecking. Colors and images aids recall and presents the materials in a fun and entertaining way and makes the whole note-taking experience \"playful\" rather than work.\n",
    "\n",
    "![](https://abhisheksreesaila.github.io/blog/images/general/mindmap_adv.png)\n",
    "\n",
    "\n",
    "# How to use this?\n",
    "\n",
    "For pass the certification one needs to have Azure experience for about 2-3 years and solved myriad of problems at their work place and there is not substitute for that. As mentioned before, it acts as a good cheatsheet or reference materials for the exam.\n",
    "\n",
    "> Important: Tips to navigate the mind map\n",
    "\n",
    "1. Start at the center.\n",
    "2. Pick a topic represented by a branch. \n",
    "3. Follow along the branch and its sub-branches (representing sub-topics)\n",
    "4. Come back to center and pick a different topic and repeat steps 2 and 3\n"
   ]
  },
  {
   "cell_type": "markdown",
   "metadata": {},
   "source": [
    "# NOTES\n",
    "\n",
    "\n",
    "## Azure STORAGE\n",
    "\n",
    "[PDF Link](https://github.com/abhisheksreesaila/blog/blob/master/assets/PDFs/Az_StorageAccount.pdf)\n",
    "\n",
    "![](https://abhisheksreesaila.github.io/blog/images/AzNotes/Az_StorageAccount.png)\n",
    "\n",
    "<hr> </hr>\n",
    "\n",
    "## Azure VIRTUAL MACHINES\n",
    "\n",
    "[PDF Link](https://github.com/abhisheksreesaila/blog/blob/master/assets/PDFs/Az_VirtualMachines.pdf)\n",
    "\n",
    "![](https://abhisheksreesaila.github.io/blog/images/AzNotes/Az_VirtualMachines.png)\n",
    "\n",
    "<hr>\n",
    "\n",
    "## Azure ACTIVE DIRECTORY\n",
    "\n",
    "[PDF Link](https://github.com/abhisheksreesaila/blog/blob/master/assets/PDFs/Az_ActiveDirectory.pdf)\n",
    "\n",
    "![](https://abhisheksreesaila.github.io/blog/images/AzNotes/Az_ActiveDirectory.png)\n",
    "\n",
    "<hr>\n",
    "\n",
    "## Azure APIs\n",
    "\n",
    "[PDF Link](https://github.com/abhisheksreesaila/blog/blob/master/assets/PDFs/Az_AzureAPIs.pdf)\n",
    "\n",
    "![](https://abhisheksreesaila.github.io/blog/images/AzNotes/Az_AzureAPIs.png)\n",
    "\n",
    "<hr>\n",
    "\n",
    "\n",
    "## Azure DB and WEB APPS\n",
    "\n",
    "[PDF Link](https://github.com/abhisheksreesaila/blog/blob/master/assets/PDFs/Az_DBWebApps.pdf)\n",
    "\n",
    "![](https://abhisheksreesaila.github.io/blog/images/AzNotes/Az_DBWebApps.png)\n",
    "\n",
    "<hr>\n",
    "\n",
    "## Azure LOAD BALANCERS\n",
    "\n",
    "[PDF Link](https://github.com/abhisheksreesaila/blog/blob/master/assets/PDFs/Az_LoadBalancers.pdf)\n",
    "\n",
    "![](https://abhisheksreesaila.github.io/blog/images/AzNotes/Az_LoadBalancers.png)\n",
    "\n",
    "<hr>\n",
    "\n",
    "\n",
    "## Azure Virtual Networks\n",
    "\n",
    "[PDF Link](https://github.com/abhisheksreesaila/blog/blob/master/assets/PDFs/Az_VirtualNetworks.pdf)\n",
    "\n",
    "![](https://abhisheksreesaila.github.io/blog/images/AzNotes/Az_VirtualNetworks.png)\n",
    "\n",
    "<hr>\n",
    "\n",
    "## Azure Misc\n",
    "\n",
    "[PDF Link](https://github.com/abhisheksreesaila/blog/blob/master/assets/PDFs/Az_Misc.pdf)\n",
    "\n",
    "![](https://abhisheksreesaila.github.io/blog/images/AzNotes/Az_Misc.png)\n",
    "\n",
    "<hr>\n"
   ]
  },
  {
   "cell_type": "markdown",
   "metadata": {},
   "source": [
    "\n"
   ]
  },
  {
   "cell_type": "markdown",
   "metadata": {},
   "source": [
    "\n",
    "\n"
   ]
  }
 ],
 "metadata": {
  "kernelspec": {
   "display_name": "Python 3",
   "language": "python",
   "name": "python3"
  },
  "language_info": {
   "codemirror_mode": {
    "name": "ipython",
    "version": 3
   },
   "file_extension": ".py",
   "mimetype": "text/x-python",
   "name": "python",
   "nbconvert_exporter": "python",
   "pygments_lexer": "ipython3",
   "version": "3.7.6"
  }
 },
 "nbformat": 4,
 "nbformat_minor": 4
}
