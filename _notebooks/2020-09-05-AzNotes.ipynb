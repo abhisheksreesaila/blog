{
 "cells": [
  {
   "cell_type": "markdown",
   "metadata": {},
   "source": [
    "# \"Azure Notes For AZ-300 & AZ-301\"\n",
    "> \"Pass Az-300 and Az-301 with these mindmap notes\"\n",
    "- toc: true\n",
    "- branch: master\n",
    "- badges: false\n",
    "- comments: true\n",
    "- categories: [azure, solutions expert certification, az300, az301]\n",
    "- hide: false\n",
    "- search_exclude: false\n",
    "- image: images/post-thumbnails/AzNotes.png\n",
    "- metadata_key1: Azure\n",
    "- metadata_key2: Certification"
   ]
  },
  {
   "cell_type": "markdown",
   "metadata": {},
   "source": [
    "# Purpose\n",
    "\n",
    "These are the notes that I took when studying for AZ300, AZ301 certification. These are neither in the tradtional list format nor just a bunch of links pointing to Microsoft documentation. These are meant to be a quick cheatsheet or reference before the exam. This can also serve as a reference for general Azure questions as well (not necessarily for exam). I have provided them in image, PDF and presentation formats.  Choose which ever suits your need.\n",
    "\n",
    "\n",
    "## Why MindMap?\n",
    "\n",
    "\n",
    "While traditional list-based note taking works, mind map takes this to the next level by adding color, images and free flow format that is absent in lists. This has helped me refer the material easily since i can glance all-at-once quickly, or go to a section without hunting and pecking. Colors and images aids recall and presents the materials in a fun and entertaining way and makes the whole note-taking experience \"playful\" rather than work.\n",
    "\n",
    "\n",
    "## How to use this?\n",
    "\n",
    "For pass the certification one needs to have Azure experience for about 2-3 years and solved myriad of problems at their work place and there is not substitute for that. As mentioned before, it acts as a good cheatsheet or reference materials for the exam.\n",
    "\n",
    "**Tips to navigate the mind map**\n",
    "\n",
    "1. Start at the center.\n",
    "2. Pick a topic represented by a branch. \n",
    "3. Follow along the branch and its sub-branches (representing sub-topics)\n",
    "4. Come back to center and pick a different topic and repeat steps 2 and 3\n"
   ]
  },
  {
   "cell_type": "markdown",
   "metadata": {},
   "source": [
    "## AZURE STORAGE\n",
    "\n",
    "![](https://abhisheksreesaila.github.io/blog/images/AzNotes/Az_Storage_Account.png \"Azure Storage Account Notes\")\n"
   ]
  },
  {
   "cell_type": "markdown",
   "metadata": {},
   "source": [
    "\n"
   ]
  },
  {
   "cell_type": "markdown",
   "metadata": {},
   "source": [
    "\n",
    "\n"
   ]
  }
 ],
 "metadata": {
  "kernelspec": {
   "display_name": "Python 3",
   "language": "python",
   "name": "python3"
  },
  "language_info": {
   "codemirror_mode": {
    "name": "ipython",
    "version": 3
   },
   "file_extension": ".py",
   "mimetype": "text/x-python",
   "name": "python",
   "nbconvert_exporter": "python",
   "pygments_lexer": "ipython3",
   "version": "3.7.6"
  }
 },
 "nbformat": 4,
 "nbformat_minor": 4
}
