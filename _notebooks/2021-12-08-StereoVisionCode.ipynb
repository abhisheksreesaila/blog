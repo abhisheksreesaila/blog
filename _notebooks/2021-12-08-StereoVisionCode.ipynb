{
 "cells": [
  {
   "cell_type": "markdown",
   "metadata": {},
   "source": [
    "# \"Stereo Vision Code\"\n",
    "\n",
    "> \"Stereo Vision in practice\"\n",
    "\n",
    "- toc: true\n",
    "- branch: master\n",
    "- badges: false\n",
    "- comments: true\n",
    "- categories: [Computer Vision]\n",
    "- hide: false\n",
    "- search_exclude: false\n",
    "- image: images/post-thumbnails/sv2.png\n",
    "- metadata_key1: notes\n",
    "- metadata_key2: "
   ]
  },
  {
   "cell_type": "markdown",
   "metadata": {},
   "source": [
    "# Outline\n",
    "\n",
    "The code is available here. The code is commented whereever necessary. \n",
    "\n",
    "## Outline of the implementation\n",
    "\n",
    "\n",
    "- Load Left and Right Images from [KITTI Dataset](http://www.cvlibs.net/datasets/kitti/)\n",
    "\n",
    "- Compute **Disparity**. Refer [here](https://ablearn.io/computer%20vision/2021/12/07/StereoVision.html#Finding-Depth) for an defintion and explanation \n",
    "    - Apply Stereo SGBM Matcher algorithm and computer Disparity\n",
    "    - We wil obtain Disparity Map\n",
    "    - Each pixel in the Disparity gives the Disparity value\n",
    "- Read calibration parameters\n",
    " - P0 and P1 are projection matrix for gray scale\n",
    " - P1 and P2 are projection matrix for color scale\n",
    " - R0_rect = rotation matrix\n",
    " - Tr_velo_to_cam & Tr_imu_to_velo are translation matrices\n",
    "- Compute the **Depth Map** (The depth map is a map that contains Z for each pixel) Check out the explanation [here](https://ablearn.io/computer%20vision/2021/12/07/StereoVision.html#Finding-Depth) \n",
    "\n",
    " - From the calibration parameters we get the projection matrix. Decompose them to get Rotation (R), K (Camera) and T (translation matrix) through a process called **QR Factorization**\n",
    "\n",
    "\n",
    " \n",
    " \n",
    " \n",
    "\n",
    "\n",
    "\n",
    "\n",
    "\n"
   ]
  },
  {
   "cell_type": "markdown",
   "metadata": {},
   "source": [
    "\n"
   ]
  },
  {
   "cell_type": "markdown",
   "metadata": {},
   "source": [
    "\n",
    "\n",
    "\n"
   ]
  },
  {
   "cell_type": "markdown",
   "metadata": {},
   "source": [
    "# References\n",
    "\n",
    "\n"
   ]
  },
  {
   "cell_type": "markdown",
   "metadata": {},
   "source": [
    "\n"
   ]
  },
  {
   "cell_type": "markdown",
   "metadata": {},
   "source": [
    "\n",
    "\n"
   ]
  }
 ],
 "metadata": {
  "kernelspec": {
   "display_name": "Python 3 (ipykernel)",
   "language": "python",
   "name": "python3"
  },
  "language_info": {
   "codemirror_mode": {
    "name": "ipython",
    "version": 3
   },
   "file_extension": ".py",
   "mimetype": "text/x-python",
   "name": "python",
   "nbconvert_exporter": "python",
   "pygments_lexer": "ipython3",
   "version": "3.8.11"
  }
 },
 "nbformat": 4,
 "nbformat_minor": 4
}
