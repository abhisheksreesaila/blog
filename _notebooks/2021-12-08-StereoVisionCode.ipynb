{
 "cells": [
  {
   "cell_type": "markdown",
   "metadata": {},
   "source": [
    "# \"Depth Estimation and Object Detection\"\n",
    "\n",
    "> \"Depth Estimation via stereo images and Object Detection\"\n",
    "\n",
    "- toc: true\n",
    "- branch: master\n",
    "- badges: false\n",
    "- comments: true\n",
    "- categories: [Computer Vision]\n",
    "- hide: false\n",
    "- search_exclude: false\n",
    "- image: images/post-thumbnails/DepthOfCar.png\n",
    "- metadata_key1: notes\n",
    "- metadata_key2: "
   ]
  },
  {
   "cell_type": "markdown",
   "metadata": {},
   "source": [
    "# Purpose\n",
    "\n",
    "Use stereo vision to find out the depth of an object(s) in an image. Specifically, we will find out how far cars & people are from the camera \n",
    "\n",
    "**Dataset** [KITTI Dataset](http://www.cvlibs.net/datasets/kitti/)\n",
    "\n",
    "**Output** \n",
    "\n",
    "![](https://abhisheksreesaila.github.io/blog/images/stereo/DepthOfCar.png \"Depth of Objects\")\n",
    "\n",
    "> youtube: https://youtu.be/ewBLt1lZ2Ik\n",
    "\n",
    "\n",
    "## Outline of the implementation\n",
    "\n",
    "The code is available here\n",
    "\n",
    "- Load Left and Right Images from [KITTI Dataset](http://www.cvlibs.net/datasets/kitti/)\n",
    "\n",
    "- Compute **Disparity**. Refer [here](https://ablearn.io/computer%20vision/2021/12/07/StereoVision.html#Finding-Depth) for an defintion and explanation \n",
    "    - Apply Stereo SGBM Matcher algorithm and computer Disparity\n",
    "    - We wil obtain Disparity Map\n",
    "    - Each pixel in the Disparity gives the Disparity value\n",
    "- Read calibration parameters\n",
    " - P0 and P1 are projection matrix for gray scale\n",
    " - P1 and P2 are projection matrix for color scale\n",
    " - R0_rect = rotation matrix\n",
    " - Tr_velo_to_cam & Tr_imu_to_velo are translation matrices\n",
    "- Compute the **Depth Map** (The depth map is a map that contains Z for each pixel) Check out the explanation [here](https://ablearn.io/computer%20vision/2021/12/07/StereoVision.html#Finding-Depth) \n",
    "\n",
    " - From the calibration parameters we get the projection matrix. Decompose them to get Rotation (R), K (Camera) and T (translation matrix) through a process called **QR Factorization** Check out the explanation [here](https://ablearn.io/computer%20vision/2021/12/07/CameraCalibration.html#Decomposing-Projection-Matrix)\n",
    " \n",
    " - Use YOLO Object Detector to detect cars\n",
    "  - You get bounding boxes coordinates. We need a point that represent the object (not 4 coordinates of the bounding boxes).  So, we get the \"center\" of the bounding box which effectively represents in the object. \n",
    "  \n",
    " - Build the pipeline and run it on image \n",
    " - Run the pipeline on the video\n",
    "\n",
    "### Bonus Section\n",
    "\n",
    "Given the following\n",
    "\n",
    "1. disparity map\n",
    "2. camera matrices\n",
    "3. baseline\n",
    "\n",
    "- Use **cv2.stereoRectify**. to get a perspective transformation matrix (or Q matrix)\n",
    "\n",
    "- Use the Q Matrix and **cv2.reprojectImageTo3D** to get a points in 3D space (camera)\n",
    "\n",
    "- Use library such as \"open3d\" to visualize\n",
    "\n",
    "![](https://abhisheksreesaila.github.io/blog/images/stereo/3d-reconstruction.png \"3D reconstruction\")\n",
    "\n",
    "see opencv documentation [here](https://docs.opencv.org/3.4/d9/d0c/group__calib3d.html#ga1bc1152bd57d63bc524204f21fde6e02) for explanation\n"
   ]
  },
  {
   "cell_type": "markdown",
   "metadata": {},
   "source": [
    "# References\n",
    "\n",
    "[Think Autonomous Course](https://courses.thinkautonomous.ai/stereo-vision)\n"
   ]
  },
  {
   "cell_type": "markdown",
   "metadata": {},
   "source": [
    "\n"
   ]
  },
  {
   "cell_type": "markdown",
   "metadata": {},
   "source": [
    "\n",
    "\n"
   ]
  }
 ],
 "metadata": {
  "kernelspec": {
   "display_name": "Python 3 (ipykernel)",
   "language": "python",
   "name": "python3"
  },
  "language_info": {
   "codemirror_mode": {
    "name": "ipython",
    "version": 3
   },
   "file_extension": ".py",
   "mimetype": "text/x-python",
   "name": "python",
   "nbconvert_exporter": "python",
   "pygments_lexer": "ipython3",
   "version": "3.8.11"
  }
 },
 "nbformat": 4,
 "nbformat_minor": 4
}
