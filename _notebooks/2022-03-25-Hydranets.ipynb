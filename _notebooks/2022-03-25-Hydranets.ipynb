{
 "cells": [
  {
   "cell_type": "markdown",
   "metadata": {},
   "source": [
    "# \"Multi Task Learning\"\n",
    "\n",
    "> \"Can we use a single model to perform multiple tasks?\"\n",
    "\n",
    "- toc: true\n",
    "- branch: master\n",
    "- badges: false\n",
    "- comments: true\n",
    "- categories: [Computer Vision]\n",
    "- hide: false\n",
    "- search_exclude: false\n",
    "- image: images/post-thumbnails/mtl.png\n",
    "- metadata_key1: notes\n",
    "- metadata_key2: "
   ]
  },
  {
   "attachments": {},
   "cell_type": "markdown",
   "metadata": {},
   "source": [
    "# Definition\n",
    "\n",
    "\n",
    "- **Multi Task Learning** - Adaption of a single neural network model to multiple tasks such as segmentation, depth estimation etc.\n",
    "- **Segmenation** :  Per Pixel Classification of an image to identify objects such as trees, roads, people etc.\n",
    "- **Depth estimation** : Estimating the distance from the camera\n",
    "\n",
    "We will producing a output such as the one below.\n",
    "\n",
    "> youtube: https://youtu.be/iXpnkIxrbq0\n",
    "\n",
    "\n",
    "# Explanation\n",
    "\n",
    "## What tasks can be combined?\n",
    "\n",
    "Based on this [paper](https://arxiv.org/pdf/1905.07553.pdf) the following observations were made\n",
    "\n",
    "- Segmentation + anything = becomes better\n",
    "- Anything + segmentation = make it worse\n",
    "- Anything + Normals = makes it better\n",
    "\n",
    "\n",
    "## Architecture\n",
    "\n",
    "The 2 most recent and popular ones are \n",
    "\n",
    "- [Google Pathways](https://blog.google/technology/ai/introducing-pathways-next-generation-ai-architecture/)\n",
    "- [Tesla's Hydranets](https://www.youtube.com/watch?v=IHH47nZ7FZU&t=248s)\n",
    "\n",
    "\n",
    "## Our Implementation\n",
    "\n",
    "We will focus on Tesla's Hydranets in this blog post. We will recreate a modified version of the hydranets based on this [Real-Time Joint Semantic Segmentation and Depth Estimation Using\n",
    "Asymmetric Annotations](https://arxiv.org/pdf/1809.04766.pdf)\n",
    "\n",
    "![](https://abhisheksreesaila.github.io/blog/images/mtl/ModifiedHydranets.png \"Architecture\")\n",
    "\n",
    "\n",
    "### Code Walkthrough\n",
    "\n",
    "Its a encoder - decoder network. We use **[MobileNetv2](https://arxiv.org/abs/1801.04381)** as encoder and **[RefineNet](https://arxiv.org/pdf/1810.03272.pdf)** as decoder. \n",
    "\n",
    "\n",
    "#### Encoder\n",
    "\n",
    "![](https://abhisheksreesaila.github.io/blog/images/mtl/mobilenet_v2.jpeg \"MobileNetv2\")\n",
    "\n",
    "There are 2 important concepts :- \n",
    "- DepthWise Separable Convolutions\n",
    "\n",
    "![](https://abhisheksreesaila.github.io/blog/images/mtl/DepthWise.jpg \"Depth Wise\")\n",
    "\n",
    "![](https://abhisheksreesaila.github.io/blog/images/mtl/NormalConv.jpg \"Standard Convolutions\")\n",
    "\n",
    "![](https://abhisheksreesaila.github.io/blog/images/mtl/NormalConv.jpg \"Standard Convolutions\")\n",
    "\n",
    "![](https://abhisheksreesaila.github.io/blog/images/mtl/ReducedParams.jpg \"Reduction in parameters\")\n",
    "\n",
    "- Residual Networks & Inverted Residual Networks\n",
    "\n",
    "![](https://abhisheksreesaila.github.io/blog/images/mtl/ResidualvsNonResidual.png \"Residual vs NonResidual Block\")\n",
    "\n",
    "![](https://abhisheksreesaila.github.io/blog/images/mtl/ResidualNetwork.jpg \"Residual Block\")\n",
    "\n",
    "#### Decoder\n",
    "\n",
    "![](https://abhisheksreesaila.github.io/blog/images/mtl/RefineNet.png \"RefineNet\")\n",
    "\n",
    "##### Highlights of the network\n",
    "\n",
    "- RCU - Residual Conv Unit\n",
    "    -  Simplified version of the convolution unit in the original ResNet where the batch-normalization layers are removed\n",
    "    \n",
    "- Multi Resolution Fusion\n",
    "  - All path inputs are then fused into a high-resolution feature map by the multi-resolution fusion block.\n",
    "\n",
    "- Chained Residual Pooling\n",
    "  - The proposed chained residual pooling aims to capture background context from a large\n",
    "    image region. It is able to efficiently pool features with multiple window sizes and fuse     them together using learnable weights. In particular, this component is built as a\n",
    "    chain of multiple pooling blocks, each consisting of one max-pooling layer and one   convolution layer. One pooling block takes the output of the previous pooling block as input. Therefore, the current pooling block is able to re-use the result from the previous pooling operation and thus access the features from a large region without using a large pooling window.\n",
    "\n",
    "Here is the [code](https://colab.research.google.com/drive/1Q8Oi37D-Qf2d5Oemo5aXuq1kPC5vePCZ?usp=sharing)\n",
    "\n",
    "##### Output\n",
    "![](https://abhisheksreesaila.github.io/blog/images/mtl/HydranetOutput.png \"Output\")\n",
    "\n",
    "> youtube: https://youtu.be/iXpnkIxrbq0\n",
    "\n",
    "# References\n",
    "\n",
    "[Implementation Notebook](https://github.com/DrSleep/multi-task-refinenet/blob/master/src/notebooks/ExpNYUDKITTI_joint.ipynb/)\n",
    "\n",
    "[Architecture Images From This Paper](https://arxiv.org/pdf/1801.04381.pdf)"
   ]
  },
  {
   "cell_type": "markdown",
   "metadata": {},
   "source": [
    "\n",
    "\n"
   ]
  },
  {
   "cell_type": "markdown",
   "metadata": {},
   "source": [
    "\n"
   ]
  },
  {
   "cell_type": "markdown",
   "metadata": {},
   "source": [
    "\n",
    "\n"
   ]
  },
  {
   "cell_type": "markdown",
   "metadata": {},
   "source": [
    "\n",
    " \n",
    " \n",
    "\n"
   ]
  },
  {
   "cell_type": "markdown",
   "metadata": {},
   "source": [
    "\n",
    "\n"
   ]
  }
 ],
 "metadata": {
  "kernelspec": {
   "display_name": "Python 3 (ipykernel)",
   "language": "python",
   "name": "python3"
  },
  "language_info": {
   "codemirror_mode": {
    "name": "ipython",
    "version": 3
   },
   "file_extension": ".py",
   "mimetype": "text/x-python",
   "name": "python",
   "nbconvert_exporter": "python",
   "pygments_lexer": "ipython3",
   "version": "3.8.11"
  }
 },
 "nbformat": 4,
 "nbformat_minor": 4
}
