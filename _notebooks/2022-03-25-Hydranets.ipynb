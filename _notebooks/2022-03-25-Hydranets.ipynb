{
 "cells": [
  {
   "cell_type": "markdown",
   "metadata": {},
   "source": [
    "# \"Multi Task Learning\"\n",
    "\n",
    "> \"Can we use a single model to perform multiple tasks?\"\n",
    "\n",
    "- toc: true\n",
    "- branch: master\n",
    "- badges: false\n",
    "- comments: true\n",
    "- categories: [Computer Vision]\n",
    "- hide: false\n",
    "- search_exclude: false\n",
    "- image: images/post-thumbnails/mtl.png\n",
    "- metadata_key1: notes\n",
    "- metadata_key2: "
   ]
  },
  {
   "cell_type": "markdown",
   "metadata": {},
   "source": [
    "# Definition\n",
    "\n",
    "\n",
    "- **Multi Task Learning** - Adaption of a single neural network model to multiple tasks such as segmentation, depth estimation etc.\n",
    "- **Segmenation** :  Per Pixel Classification of an image to identify objects such as trees, roads, people etc.\n",
    "- **Depth estimation** : Estimating the distance from the camera\n",
    "\n",
    "We will producing a output such as the one below.\n",
    "\n",
    "> youtube: https://youtu.be/iXpnkIxrbq0\n",
    "\n",
    "Here is the [code](https://colab.research.google.com/drive/1Q8Oi37D-Qf2d5Oemo5aXuq1kPC5vePCZ?usp=sharing)\n",
    "\n",
    "# Explanation\n",
    "\n",
    "## What tasks can be combined?\n",
    "\n",
    "\n",
    "## Architecture Pattern\n",
    "\n",
    "\n",
    "## Our Implementation\n",
    "\n",
    "\n",
    "## Final Thoughts\n",
    "\n",
    "\n"
   ]
  },
  {
   "cell_type": "markdown",
   "metadata": {},
   "source": [
    "\n",
    "\n"
   ]
  },
  {
   "cell_type": "markdown",
   "metadata": {},
   "source": [
    "\n"
   ]
  },
  {
   "cell_type": "markdown",
   "metadata": {},
   "source": [
    "\n",
    "\n"
   ]
  },
  {
   "cell_type": "markdown",
   "metadata": {},
   "source": [
    "\n",
    " \n",
    " \n",
    "\n"
   ]
  },
  {
   "cell_type": "markdown",
   "metadata": {},
   "source": [
    "# References\n",
    "\n",
    "    "
   ]
  },
  {
   "cell_type": "markdown",
   "metadata": {},
   "source": [
    "\n",
    "\n"
   ]
  }
 ],
 "metadata": {
  "kernelspec": {
   "display_name": "Python 3 (ipykernel)",
   "language": "python",
   "name": "python3"
  },
  "language_info": {
   "codemirror_mode": {
    "name": "ipython",
    "version": 3
   },
   "file_extension": ".py",
   "mimetype": "text/x-python",
   "name": "python",
   "nbconvert_exporter": "python",
   "pygments_lexer": "ipython3",
   "version": "3.8.11"
  }
 },
 "nbformat": 4,
 "nbformat_minor": 4
}
