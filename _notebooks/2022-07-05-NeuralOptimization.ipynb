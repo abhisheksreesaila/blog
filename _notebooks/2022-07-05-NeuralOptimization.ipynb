{
 "cells": [
  {
   "cell_type": "markdown",
   "metadata": {},
   "source": [
    "# \"ML Model Optimization\"\n",
    "\n",
    "> \"Optimize a trained machine learning model\"\n",
    "\n",
    "- toc: true\n",
    "- branch: master\n",
    "- badges: false\n",
    "- comments: true\n",
    "- categories: [Mschine Learning]\n",
    "- hide: false\n",
    "- search_exclude: false\n",
    "- image: images/post-thumbnails/mtl.png\n",
    "- metadata_key1: notes\n",
    "- metadata_key2: "
   ]
  },
  {
   "cell_type": "markdown",
   "metadata": {},
   "source": [
    "# Definition\n",
    "\n",
    "Top techniques\n",
    "\n",
    "- Quantization\n",
    " - convert floats to integers \n",
    " - slight reduction in accuracy but 2-4x gain in speed\n",
    " \n",
    " code here\n",
    " \n",
    "- Pruning\n",
    " - Make the model sparse. \n",
    " - Certain % of weights (parameters) is set to 0\n",
    " - reduction in accuracy for gain in speed\n",
    " \n",
    " Code here\n",
    " \n",
    "- Knowledge distillation\n",
    " -  uses teacher and student network\n",
    " -  take the output of teacher network and use its output to run student network\n",
    " \n",
    "- Multi task learning\n",
    " - use a single backbone but multi-heads to do variety of tasks. More on multi task learning can be found here\n",
    " \n",
    " \n",
    "\n",
    "\n",
    "# References\n"
   ]
  },
  {
   "cell_type": "markdown",
   "metadata": {},
   "source": [
    "\n",
    "\n"
   ]
  },
  {
   "cell_type": "markdown",
   "metadata": {},
   "source": [
    "\n"
   ]
  },
  {
   "cell_type": "markdown",
   "metadata": {},
   "source": [
    "\n",
    "\n"
   ]
  },
  {
   "cell_type": "markdown",
   "metadata": {},
   "source": [
    "\n",
    " \n",
    " \n",
    "\n"
   ]
  },
  {
   "cell_type": "markdown",
   "metadata": {},
   "source": [
    "\n",
    "\n"
   ]
  }
 ],
 "metadata": {
  "kernelspec": {
   "display_name": "Python 3 (ipykernel)",
   "language": "python",
   "name": "python3"
  },
  "language_info": {
   "codemirror_mode": {
    "name": "ipython",
    "version": 3
   },
   "file_extension": ".py",
   "mimetype": "text/x-python",
   "name": "python",
   "nbconvert_exporter": "python",
   "pygments_lexer": "ipython3",
   "version": "3.8.11"
  }
 },
 "nbformat": 4,
 "nbformat_minor": 4
}
